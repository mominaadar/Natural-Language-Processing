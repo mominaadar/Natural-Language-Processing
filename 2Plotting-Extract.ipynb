{
 "cells": [
  {
   "cell_type": "markdown",
   "metadata": {},
   "source": [
    "## 2.5 Plotting tokens and frequencies"
   ]
  },
  {
   "cell_type": "code",
   "execution_count": 5,
   "metadata": {},
   "outputs": [],
   "source": [
    "import matplotlib.pyplot as plt"
   ]
  },
  {
   "cell_type": "code",
   "execution_count": 6,
   "metadata": {},
   "outputs": [],
   "source": [
    "text = \"the prior reviewer need a little schooling in widescreen. the 1st . \\ntrue widescreen film be the robe in Cinemascope 1953 and follow by how to marry a Millionaire both by 20th Century Fox who own the process . not the king and I. \\nnot either use cinemascope or use one of they own . quite possibly disney could give this film a matting since the industry . also , disney do produce 2 film in widescreen Lady & The Tramp and sleep Beauty Cinemascope and Techniram . \\nboth beautifully do on dvd and vh . so please get you fact straight when make string stetement about other comment .\""
   ]
  },
  {
   "cell_type": "code",
   "execution_count": 7,
   "metadata": {},
   "outputs": [],
   "source": [
    "docs = text.split('\\n')"
   ]
  },
  {
   "cell_type": "code",
   "execution_count": 8,
   "metadata": {},
   "outputs": [
    {
     "name": "stdout",
     "output_type": "stream",
     "text": [
      "{'the': 6, 'prior': 1, 'reviewer': 1, 'need': 1, 'a': 3, 'little': 1, 'schooling': 1, 'in': 3, 'widescreen.': 1, '1st': 1, '.': 7, '': 3, 'true': 1, 'widescreen': 2, 'film': 3, 'be': 1, 'robe': 1, 'Cinemascope': 2, '1953': 1, 'and': 5, 'follow': 1, 'by': 2, 'how': 1, 'to': 1, 'marry': 1, 'Millionaire': 1, 'both': 2, '20th': 1, 'Century': 1, 'Fox': 1, 'who': 1, 'own': 2, 'process': 1, 'not': 2, 'king': 1, 'I.': 1, 'either': 1, 'use': 2, 'cinemascope': 1, 'or': 1, 'one': 1, 'of': 1, 'they': 1, 'quite': 1, 'possibly': 1, 'disney': 2, 'could': 1, 'give': 1, 'this': 1, 'matting': 1, 'since': 1, 'industry': 1, 'also': 1, ',': 1, 'do': 2, 'produce': 1, '2': 1, 'Lady': 1, '&': 1, 'The': 1, 'Tramp': 1, 'sleep': 1, 'Beauty': 1, 'Techniram': 1, 'beautifully': 1, 'on': 1, 'dvd': 1, 'vh': 1, 'so': 1, 'please': 1, 'get': 1, 'you': 1, 'fact': 1, 'straight': 1, 'when': 1, 'make': 1, 'string': 1, 'stetement': 1, 'about': 1, 'other': 1, 'comment': 1}\n"
     ]
    }
   ],
   "source": [
    "wordFreq = {}  #word: key, freq: value\n",
    "\n",
    "for i in docs:\n",
    "    for word in i.split(' '):\n",
    "        if word in wordFreq.keys():\n",
    "            wordFreq[word] += 1\n",
    "        else:\n",
    "            wordFreq[word] = 1\n",
    "            \n",
    "print(wordFreq)"
   ]
  },
  {
   "cell_type": "code",
   "execution_count": 17,
   "metadata": {},
   "outputs": [
    {
     "data": {
      "image/png": "[encoded data removed]",
      "text/plain": [
       "<Figure size 432x288 with 1 Axes>"
      ]
     },
     "metadata": {
      "needs_background": "light"
     },
     "output_type": "display_data"
    }
   ],
   "source": [
    "plt.figure()\n",
    "plt.xlabel('Tokens')\n",
    "plt.ylabel('Frequencies')\n",
    "plt.title('Token frequency representation')\n",
    "# plt.plot(list(wordFreq.keys()),list(wordFreq.values()))\n",
    "plt.plot([i for i in range(len(wordFreq))],list(wordFreq.values()))\n",
    "plt.show()"
   ]
  },
  {
   "cell_type": "markdown",
   "metadata": {},
   "source": [
    "### 2.6 Keywords Extraction"
   ]
  },
  {
   "cell_type": "code",
   "execution_count": 21,
   "metadata": {},
   "outputs": [],
   "source": [
    "tokens = list(wordFreq.keys())\n",
    "freq = list(wordFreq.values())"
   ]
  },
  {
   "cell_type": "code",
   "execution_count": 35,
   "metadata": {},
   "outputs": [
    {
     "name": "stdout",
     "output_type": "stream",
     "text": [
      "[(1, '&'), (1, ','), (1, '1953'), (1, '1st'), (1, '2'), (1, '20th'), (1, 'Beauty'), (1, 'Century'), (1, 'Fox'), (1, 'I.'), (1, 'Lady'), (1, 'Millionaire'), (1, 'Techniram'), (1, 'The'), (1, 'Tramp'), (1, 'about'), (1, 'also'), (1, 'be'), (1, 'beautifully'), (1, 'cinemascope'), (1, 'comment'), (1, 'could'), (1, 'dvd'), (1, 'either'), (1, 'fact'), (1, 'follow'), (1, 'get'), (1, 'give'), (1, 'how'), (1, 'industry'), (1, 'king'), (1, 'little'), (1, 'make'), (1, 'marry'), (1, 'matting'), (1, 'need'), (1, 'of'), (1, 'on'), (1, 'one'), (1, 'or'), (1, 'other'), (1, 'please'), (1, 'possibly'), (1, 'prior'), (1, 'process'), (1, 'produce'), (1, 'quite'), (1, 'reviewer'), (1, 'robe'), (1, 'schooling'), (1, 'since'), (1, 'sleep'), (1, 'so'), (1, 'stetement'), (1, 'straight'), (1, 'string'), (1, 'they'), (1, 'this'), (1, 'to'), (1, 'true'), (1, 'vh'), (1, 'when'), (1, 'who'), (1, 'widescreen.'), (1, 'you'), (2, 'Cinemascope'), (2, 'both'), (2, 'by'), (2, 'disney'), (2, 'do'), (2, 'not'), (2, 'own'), (2, 'use'), (2, 'widescreen'), (3, ''), (3, 'a'), (3, 'film'), (3, 'in'), (5, 'and'), (6, 'the'), (7, '.')]\n"
     ]
    }
   ],
   "source": [
    "tmp = list(zip(freq, tokens))\n",
    "tmp = sorted(tmp)\n",
    "print(tmp)"
   ]
  },
  {
   "cell_type": "code",
   "execution_count": 38,
   "metadata": {},
   "outputs": [
    {
     "name": "stdout",
     "output_type": "stream",
     "text": [
      "(1, 1, 1, 1, 1, 1, 1, 1, 1, 1, 1, 1, 1, 1, 1, 1, 1, 1, 1, 1, 1, 1, 1, 1, 1, 1, 1, 1, 1, 1, 1, 1, 1, 1, 1, 1, 1, 1, 1, 1, 1, 1, 1, 1, 1, 1, 1, 1, 1, 1, 1, 1, 1, 1, 1, 1, 1, 1, 1, 1, 1, 1, 1, 1, 1, 2, 2, 2, 2, 2, 2, 2, 2, 2, 3, 3, 3, 3, 5, 6, 7)\n",
      "----------\n",
      "('&', ',', '1953', '1st', '2', '20th', 'Beauty', 'Century', 'Fox', 'I.', 'Lady', 'Millionaire', 'Techniram', 'The', 'Tramp', 'about', 'also', 'be', 'beautifully', 'cinemascope', 'comment', 'could', 'dvd', 'either', 'fact', 'follow', 'get', 'give', 'how', 'industry', 'king', 'little', 'make', 'marry', 'matting', 'need', 'of', 'on', 'one', 'or', 'other', 'please', 'possibly', 'prior', 'process', 'produce', 'quite', 'reviewer', 'robe', 'schooling', 'since', 'sleep', 'so', 'stetement', 'straight', 'string', 'they', 'this', 'to', 'true', 'vh', 'when', 'who', 'widescreen.', 'you', 'Cinemascope', 'both', 'by', 'disney', 'do', 'not', 'own', 'use', 'widescreen', '', 'a', 'film', 'in', 'and', 'the', '.')\n"
     ]
    }
   ],
   "source": [
    "sorted_freq, sorted_tokens = zip(*tmp)  # unzip\n",
    "list(sorted_freq)\n",
    "list(sorted_tokens)\n",
    "print(sorted_freq)\n",
    "print('----------')\n",
    "print(sorted_tokens)"
   ]
  },
  {
   "cell_type": "code",
   "execution_count": 48,
   "metadata": {},
   "outputs": [
    {
     "data": {
      "image/png": "[encoded data removed]",
      "text/plain": [
       "<Figure size 432x288 with 1 Axes>"
      ]
     },
     "metadata": {
      "needs_background": "light"
     },
     "output_type": "display_data"
    }
   ],
   "source": [
    "plt.figure()\n",
    "plt.xlabel('Tokens')\n",
    "plt.ylabel('Frequencies')\n",
    "plt.title('Token frequency representation')\n",
    "plt.plot(sorted_tokens, sorted_freq)\n",
    "plt.show()"
   ]
  },
  {
   "cell_type": "code",
   "execution_count": 41,
   "metadata": {},
   "outputs": [
    {
     "data": {
      "text/plain": [
       "40.5"
      ]
     },
     "execution_count": 41,
     "metadata": {},
     "output_type": "execute_result"
    }
   ],
   "source": [
    "len(sorted_tokens)/2"
   ]
  },
  {
   "cell_type": "code",
   "execution_count": 45,
   "metadata": {},
   "outputs": [
    {
     "data": {
      "text/plain": [
       "('on', 'one', 'or', 'other', 'please', 'possibly')"
      ]
     },
     "execution_count": 45,
     "metadata": {},
     "output_type": "execute_result"
    }
   ],
   "source": [
    "sorted_tokens[37:43]"
   ]
  },
  {
   "cell_type": "markdown",
   "metadata": {},
   "source": [
    "#### 2.7 Dataset Selection for NLP Tasks"
   ]
  },
  {
   "cell_type": "code",
   "execution_count": 49,
   "metadata": {},
   "outputs": [],
   "source": [
    "# https://archive.ics.uci.edu/ml/datasets.php"
   ]
  },
  {
   "cell_type": "code",
   "execution_count": 50,
   "metadata": {},
   "outputs": [],
   "source": [
    "# https://www.kaggle.com/datasets"
   ]
  },
  {
   "cell_type": "code",
   "execution_count": 51,
   "metadata": {},
   "outputs": [],
   "source": [
    "# https://www.ics.uci.edu/~smyth/courses/cs175/text_data_sets.html"
   ]
  },
  {
   "cell_type": "code",
   "execution_count": 52,
   "metadata": {},
   "outputs": [],
   "source": [
    "# https://www.cs.uic.edu/~liub/FBS/sentiment-analysis.html#datasets"
   ]
  },
  {
   "cell_type": "code",
   "execution_count": 53,
   "metadata": {},
   "outputs": [],
   "source": [
    "# https://nlp.stanford.edu/"
   ]
  },
  {
   "cell_type": "code",
   "execution_count": null,
   "metadata": {},
   "outputs": [],
   "source": []
  }
 ],
 "metadata": {
  "kernelspec": {
   "display_name": "Python 3",
   "language": "python",
   "name": "python3"
  },
  "language_info": {
   "codemirror_mode": {
    "name": "ipython",
    "version": 3
   },
   "file_extension": ".py",
   "mimetype": "text/x-python",
   "name": "python",
   "nbconvert_exporter": "python",
   "pygments_lexer": "ipython3",
   "version": "3.8.3"
  }
 },
 "nbformat": 4,
 "nbformat_minor": 4
}
