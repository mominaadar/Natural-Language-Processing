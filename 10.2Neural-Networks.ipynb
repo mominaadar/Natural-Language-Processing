{
  "nbformat": 4,
  "nbformat_minor": 0,
  "metadata": {
    "colab": {
      "name": "10.2Neural-Networks.ipynb",
      "provenance": [],
      "collapsed_sections": []
    },
    "kernelspec": {
      "name": "python3",
      "display_name": "Python 3"
    },
    "language_info": {
      "name": "python"
    }
  },
  "cells": [
    {
      "cell_type": "markdown",
      "metadata": {
        "id": "YMuvXzmoJFMR"
      },
      "source": [
        "### 9.2.5 Deep NN"
      ]
    },
    {
      "cell_type": "code",
      "metadata": {
        "id": "uWAmuD2uBBn7"
      },
      "source": [
        "import pandas as pd\n",
        "\n",
        "corpus = pd.read_csv('sample_data/IMDB-Dataset.csv')"
      ],
      "execution_count": 4,
      "outputs": []
    },
    {
      "cell_type": "code",
      "metadata": {
        "id": "Uw3qXB7gBGpX"
      },
      "source": [
        "from tensorflow.keras.models import Sequential\n",
        "from tensorflow.keras.layers import Dense\n",
        "from sklearn.feature_extraction.text import TfidfVectorizer\n",
        "from sklearn.model_selection import train_test_split\n",
        "import numpy as np"
      ],
      "execution_count": 20,
      "outputs": []
    },
    {
      "cell_type": "code",
      "metadata": {
        "id": "KDFWi4cCJXaj"
      },
      "source": [
        "# sequence models are good for textual data and bioinformatics where sequence is important\n",
        "model = Sequential()\n",
        "\n",
        "# more nodes on 1st hidden layer, which decrease as hidden layers are followed\n",
        "\n",
        "hidden_layer1 = Dense(100, activation='relu', input_shape=(200,))\n",
        "hidden_layer2 = Dense(80, activation='relu')\n",
        "hidden_layer3 = Dense(50, activation='relu')\n",
        "hidden_layer4 = Dense(30, activation='relu')\n",
        "hidden_layer5 = Dense(20, activation='relu')\n",
        "\n",
        "# sigmoid in output layer so value comes between 0 and 1\n",
        "output_layer = Dense(1, activation='sigmoid')\n",
        "\n",
        "model.add(hidden_layer1)\n",
        "model.add(hidden_layer2)\n",
        "model.add(hidden_layer3)\n",
        "model.add(hidden_layer4)\n",
        "model.add(hidden_layer5)\n",
        "model.add(output_layer)"
      ],
      "execution_count": 9,
      "outputs": []
    },
    {
      "cell_type": "code",
      "metadata": {
        "colab": {
          "base_uri": "https://localhost:8080/"
        },
        "id": "n4eadqyaKCyn",
        "outputId": "ca9ba286-9e25-4d4f-ec53-f6b6fb16b472"
      },
      "source": [
        "model.summary()"
      ],
      "execution_count": 10,
      "outputs": [
        {
          "output_type": "stream",
          "text": [
            "Model: \"sequential_1\"\n",
            "_________________________________________________________________\n",
            "Layer (type)                 Output Shape              Param #   \n",
            "=================================================================\n",
            "dense_6 (Dense)              (None, 100)               20100     \n",
            "_________________________________________________________________\n",
            "dense_7 (Dense)              (None, 80)                8080      \n",
            "_________________________________________________________________\n",
            "dense_8 (Dense)              (None, 50)                4050      \n",
            "_________________________________________________________________\n",
            "dense_9 (Dense)              (None, 30)                1530      \n",
            "_________________________________________________________________\n",
            "dense_10 (Dense)             (None, 20)                620       \n",
            "_________________________________________________________________\n",
            "dense_11 (Dense)             (None, 1)                 21        \n",
            "=================================================================\n",
            "Total params: 34,401\n",
            "Trainable params: 34,401\n",
            "Non-trainable params: 0\n",
            "_________________________________________________________________\n"
          ],
          "name": "stdout"
        }
      ]
    },
    {
      "cell_type": "code",
      "metadata": {
        "id": "V8c4i2BCLOvG"
      },
      "source": [
        "reviews = corpus.iloc[:,0]\n",
        "senti = corpus.iloc[:,1]\n",
        "\n",
        "tfidf = TfidfVectorizer(max_features = 200)\n",
        "matrix_x = tfidf.fit_transform(reviews)\n",
        "\n",
        "\n",
        "# convert sentiments to numbers but only 0 or 1\n",
        "\n",
        "binary_senti = [0 if i=='negative' else 1 for i in senti]"
      ],
      "execution_count": 13,
      "outputs": []
    },
    {
      "cell_type": "code",
      "metadata": {
        "id": "Z1WRmxIuLoQm"
      },
      "source": [
        "train_reviews, test_reviews, train_senti, test_senti = train_test_split(matrix_x, binary_senti, shuffle=True, train_size = 0.8)\n",
        "\n",
        "train_reviews = train_reviews.toarray()\n",
        "test_reviews = test_reviews.toarray()\n",
        "\n",
        "train_reviews = np.array(train_reviews)\n",
        "train_senti = np.array(train_senti)\n",
        "test_reviews = np.array(test_reviews)\n",
        "test_senti = np.array(test_senti)"
      ],
      "execution_count": 31,
      "outputs": []
    },
    {
      "cell_type": "code",
      "metadata": {
        "id": "WGvtpB-dKEN_"
      },
      "source": [
        "model.compile(loss='binary_crossentropy', optimizer='sgd', metrics=['accuracy'])"
      ],
      "execution_count": 11,
      "outputs": []
    },
    {
      "cell_type": "code",
      "metadata": {
        "colab": {
          "base_uri": "https://localhost:8080/"
        },
        "id": "GRaaqY3yMOk6",
        "outputId": "0681a3ab-7fe2-4e90-ac4b-e26440f7e8d9"
      },
      "source": [
        "model.fit(train_reviews, train_senti, epochs = 3, batch_size = 64, validation_data=(test_reviews, test_senti))"
      ],
      "execution_count": 32,
      "outputs": [
        {
          "output_type": "stream",
          "text": [
            "Epoch 1/3\n",
            "625/625 [==============================] - 1s 2ms/step - loss: 0.4922 - accuracy: 0.7604 - val_loss: 0.4822 - val_accuracy: 0.7705\n",
            "Epoch 2/3\n",
            "625/625 [==============================] - 1s 2ms/step - loss: 0.4868 - accuracy: 0.7644 - val_loss: 0.4743 - val_accuracy: 0.7762\n",
            "Epoch 3/3\n",
            "625/625 [==============================] - 1s 2ms/step - loss: 0.4842 - accuracy: 0.7652 - val_loss: 0.4736 - val_accuracy: 0.7770\n"
          ],
          "name": "stdout"
        },
        {
          "output_type": "execute_result",
          "data": {
            "text/plain": [
              "<tensorflow.python.keras.callbacks.History at 0x7f99eecfcdd0>"
            ]
          },
          "metadata": {
            "tags": []
          },
          "execution_count": 32
        }
      ]
    },
    {
      "cell_type": "code",
      "metadata": {
        "colab": {
          "base_uri": "https://localhost:8080/"
        },
        "id": "6va0hzZjL1zI",
        "outputId": "65ebbe51-017d-49be-b7c1-824dde909dd9"
      },
      "source": [
        "model.evaluate(test_reviews, test_senti)"
      ],
      "execution_count": 33,
      "outputs": [
        {
          "output_type": "stream",
          "text": [
            "313/313 [==============================] - 0s 1ms/step - loss: 0.4736 - accuracy: 0.7770\n"
          ],
          "name": "stdout"
        },
        {
          "output_type": "execute_result",
          "data": {
            "text/plain": [
              "[0.4736006259918213, 0.7770000100135803]"
            ]
          },
          "metadata": {
            "tags": []
          },
          "execution_count": 33
        }
      ]
    },
    {
      "cell_type": "markdown",
      "metadata": {
        "id": "Oy8_f_DzNri0"
      },
      "source": [
        "### 9.2.6 Dropout and RMSProp Optimizer"
      ]
    },
    {
      "cell_type": "code",
      "metadata": {
        "id": "x10TzxlzNtoi"
      },
      "source": [
        "from tensorflow.keras.models import Sequential\n",
        "from tensorflow.keras.layers import Dense, Dropout\n",
        "# dropout: blocks some info of 1 hidden layer to be passed on to next hidden layer\n",
        "# good where model is overfitting the training data"
      ],
      "execution_count": 34,
      "outputs": []
    },
    {
      "cell_type": "code",
      "metadata": {
        "id": "m5BDt1qkN5q2"
      },
      "source": [
        "model = Sequential()\n",
        "\n",
        "hidden_layer1 = Dense(100, activation='relu', input_shape=(200,))\n",
        "# block 15% of info of this layer to be passed to next layer as input\n",
        "dropout_layer1 =  Dropout(0.15)\n",
        "hidden_layer2 = Dense(80, activation='relu')\n",
        "hidden_layer3 = Dense(50, activation='relu')\n",
        "dropout_layer2 =  Dropout(0.10)\n",
        "hidden_layer4 = Dense(30, activation='relu')\n",
        "hidden_layer5 = Dense(20, activation='relu')\n",
        "\n",
        "output_layer = Dense(1, activation='sigmoid')\n",
        "\n",
        "model.add(hidden_layer1)\n",
        "model.add(dropout_layer1)\n",
        "model.add(hidden_layer2)\n",
        "model.add(hidden_layer3)\n",
        "model.add(dropout_layer2)\n",
        "model.add(hidden_layer4)\n",
        "model.add(hidden_layer5)\n",
        "model.add(output_layer)"
      ],
      "execution_count": 37,
      "outputs": []
    },
    {
      "cell_type": "code",
      "metadata": {
        "colab": {
          "base_uri": "https://localhost:8080/"
        },
        "id": "ivpXrd_6PRAY",
        "outputId": "a2ebde85-0a72-49e5-970c-afb1bd294f15"
      },
      "source": [
        "model.summary()"
      ],
      "execution_count": 38,
      "outputs": [
        {
          "output_type": "stream",
          "text": [
            "Model: \"sequential_4\"\n",
            "_________________________________________________________________\n",
            "Layer (type)                 Output Shape              Param #   \n",
            "=================================================================\n",
            "dense_24 (Dense)             (None, 100)               20100     \n",
            "_________________________________________________________________\n",
            "dropout_4 (Dropout)          (None, 100)               0         \n",
            "_________________________________________________________________\n",
            "dense_25 (Dense)             (None, 80)                8080      \n",
            "_________________________________________________________________\n",
            "dense_26 (Dense)             (None, 50)                4050      \n",
            "_________________________________________________________________\n",
            "dropout_5 (Dropout)          (None, 50)                0         \n",
            "_________________________________________________________________\n",
            "dense_27 (Dense)             (None, 30)                1530      \n",
            "_________________________________________________________________\n",
            "dense_28 (Dense)             (None, 20)                620       \n",
            "_________________________________________________________________\n",
            "dense_29 (Dense)             (None, 1)                 21        \n",
            "=================================================================\n",
            "Total params: 34,401\n",
            "Trainable params: 34,401\n",
            "Non-trainable params: 0\n",
            "_________________________________________________________________\n"
          ],
          "name": "stdout"
        }
      ]
    },
    {
      "cell_type": "code",
      "metadata": {
        "id": "riqje9xxPVba"
      },
      "source": [
        "# optimizer : reponsible for adjusting weights\n",
        "model.compile(loss='binary_crossentropy', optimizer='rmsprop', metrics=['accuracy'])"
      ],
      "execution_count": 39,
      "outputs": []
    },
    {
      "cell_type": "code",
      "metadata": {
        "colab": {
          "base_uri": "https://localhost:8080/"
        },
        "id": "jZ3WJ5htPpba",
        "outputId": "d0a88885-9b81-41d1-91c2-9e92022bd116"
      },
      "source": [
        "model.fit(train_reviews, train_senti, epochs = 5, batch_size = 120, validation_data=(test_reviews, test_senti))"
      ],
      "execution_count": 41,
      "outputs": [
        {
          "output_type": "stream",
          "text": [
            "Epoch 1/5\n",
            "334/334 [==============================] - 2s 4ms/step - loss: 0.4584 - accuracy: 0.7811 - val_loss: 0.4832 - val_accuracy: 0.7777\n",
            "Epoch 2/5\n",
            "334/334 [==============================] - 1s 4ms/step - loss: 0.4497 - accuracy: 0.7871 - val_loss: 0.4659 - val_accuracy: 0.7853\n",
            "Epoch 3/5\n",
            "334/334 [==============================] - 1s 4ms/step - loss: 0.4393 - accuracy: 0.7934 - val_loss: 0.4991 - val_accuracy: 0.7710\n",
            "Epoch 4/5\n",
            "334/334 [==============================] - 1s 4ms/step - loss: 0.4301 - accuracy: 0.7974 - val_loss: 0.4821 - val_accuracy: 0.7731\n",
            "Epoch 5/5\n",
            "334/334 [==============================] - 1s 4ms/step - loss: 0.4181 - accuracy: 0.8066 - val_loss: 0.4829 - val_accuracy: 0.7780\n"
          ],
          "name": "stdout"
        },
        {
          "output_type": "execute_result",
          "data": {
            "text/plain": [
              "<tensorflow.python.keras.callbacks.History at 0x7f99ee40f550>"
            ]
          },
          "metadata": {
            "tags": []
          },
          "execution_count": 41
        }
      ]
    },
    {
      "cell_type": "code",
      "metadata": {
        "colab": {
          "base_uri": "https://localhost:8080/"
        },
        "id": "w4tGMwlXPsCG",
        "outputId": "a435f2c8-5c8d-4a27-bc7b-a6a527a4e56f"
      },
      "source": [
        "model.evaluate(test_reviews, test_senti)"
      ],
      "execution_count": 42,
      "outputs": [
        {
          "output_type": "stream",
          "text": [
            "313/313 [==============================] - 0s 1ms/step - loss: 0.4829 - accuracy: 0.7780\n"
          ],
          "name": "stdout"
        },
        {
          "output_type": "execute_result",
          "data": {
            "text/plain": [
              "[0.4828977882862091, 0.777999997138977]"
            ]
          },
          "metadata": {
            "tags": []
          },
          "execution_count": 42
        }
      ]
    },
    {
      "cell_type": "code",
      "metadata": {
        "id": "FTqUXqAkP78m"
      },
      "source": [
        ""
      ],
      "execution_count": null,
      "outputs": []
    }
  ]
}