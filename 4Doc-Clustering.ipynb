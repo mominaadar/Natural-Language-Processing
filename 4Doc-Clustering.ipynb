{
 "cells": [
  {
   "cell_type": "markdown",
   "metadata": {},
   "source": [
    "## SECTION 4 K-means clustering"
   ]
  },
  {
   "cell_type": "code",
   "execution_count": 20,
   "metadata": {},
   "outputs": [],
   "source": [
    "corpus = ['milk bread bread bread',\n",
    "         'break milk milk bread',\n",
    "         'milk milk milk bread bread bread bread',\n",
    "         'cat cat cat dog dog bark',\n",
    "         'dog dog cat bark mew mew',\n",
    "         'cat dog cat dog mew']"
   ]
  },
  {
   "cell_type": "code",
   "execution_count": 21,
   "metadata": {},
   "outputs": [],
   "source": [
    "from sklearn.feature_extraction.text import TfidfVectorizer\n",
    "\n",
    "tfidf = TfidfVectorizer()\n",
    "\n",
    "matrix_input = tfidf.fit_transform(corpus)"
   ]
  },
  {
   "cell_type": "code",
   "execution_count": 22,
   "metadata": {},
   "outputs": [
    {
     "data": {
      "text/plain": [
       "<6x7 sparse matrix of type '<class 'numpy.float64'>'\n",
       "\twith 17 stored elements in Compressed Sparse Row format>"
      ]
     },
     "execution_count": 22,
     "metadata": {},
     "output_type": "execute_result"
    }
   ],
   "source": [
    "matrix_input"
   ]
  },
  {
   "cell_type": "code",
   "execution_count": 23,
   "metadata": {},
   "outputs": [],
   "source": [
    "from sklearn.cluster import KMeans"
   ]
  },
  {
   "cell_type": "code",
   "execution_count": 24,
   "metadata": {},
   "outputs": [],
   "source": [
    "km = KMeans(n_clusters = 2)"
   ]
  },
  {
   "cell_type": "code",
   "execution_count": 25,
   "metadata": {},
   "outputs": [
    {
     "data": {
      "text/plain": [
       "KMeans(n_clusters=2)"
      ]
     },
     "execution_count": 25,
     "metadata": {},
     "output_type": "execute_result"
    }
   ],
   "source": [
    "# train model\n",
    "# omitting 6th doc for test check\n",
    "km.fit(matrix_input[:-1])"
   ]
  },
  {
   "cell_type": "code",
   "execution_count": 26,
   "metadata": {},
   "outputs": [
    {
     "data": {
      "text/plain": [
       "array([0, 0, 0, 1, 1], dtype=int32)"
      ]
     },
     "execution_count": 26,
     "metadata": {},
     "output_type": "execute_result"
    }
   ],
   "source": [
    "# clustering first 3 docs are similar as they have same label and same for cluster 2 (n=2)\n",
    "km.labels_"
   ]
  },
  {
   "cell_type": "code",
   "execution_count": 27,
   "metadata": {},
   "outputs": [
    {
     "data": {
      "text/plain": [
       "array([1], dtype=int32)"
      ]
     },
     "execution_count": 27,
     "metadata": {},
     "output_type": "execute_result"
    }
   ],
   "source": [
    "# [5] or [-1:]\n",
    "km.predict(matrix_input[5])"
   ]
  },
  {
   "cell_type": "markdown",
   "metadata": {},
   "source": [
    "## Nearest Neighbors Clustering"
   ]
  },
  {
   "cell_type": "code",
   "execution_count": 40,
   "metadata": {},
   "outputs": [],
   "source": [
    "corpus = open('dataset4.txt').read()"
   ]
  },
  {
   "cell_type": "code",
   "execution_count": 41,
   "metadata": {},
   "outputs": [
    {
     "data": {
      "text/plain": [
       "['milk bread bread bread',\n",
       " 'bread milk milk bread',\n",
       " 'milk milk milk bread bread bread bread',\n",
       " 'cat cat cat dog dog bark',\n",
       " 'dog dog cat bark mew mew',\n",
       " 'cat dog cat dog mew',\n",
       " '']"
      ]
     },
     "execution_count": 41,
     "metadata": {},
     "output_type": "execute_result"
    }
   ],
   "source": [
    "docs_list = corpus.split('\\n')\n",
    "docs_list"
   ]
  },
  {
   "cell_type": "code",
   "execution_count": 42,
   "metadata": {},
   "outputs": [
    {
     "data": {
      "text/plain": [
       "['milk bread bread bread',\n",
       " 'bread milk milk bread',\n",
       " 'milk milk milk bread bread bread bread',\n",
       " 'cat cat cat dog dog bark',\n",
       " 'dog dog cat bark mew mew',\n",
       " 'cat dog cat dog mew']"
      ]
     },
     "execution_count": 42,
     "metadata": {},
     "output_type": "execute_result"
    }
   ],
   "source": [
    "docs = []\n",
    "for i in docs_list:\n",
    "    if i != '':\n",
    "        docs.append(i)\n",
    "\n",
    "docs"
   ]
  },
  {
   "cell_type": "code",
   "execution_count": 43,
   "metadata": {},
   "outputs": [
    {
     "data": {
      "text/plain": [
       "<6x6 sparse matrix of type '<class 'numpy.float64'>'\n",
       "\twith 16 stored elements in Compressed Sparse Row format>"
      ]
     },
     "execution_count": 43,
     "metadata": {},
     "output_type": "execute_result"
    }
   ],
   "source": [
    "from sklearn.feature_extraction.text import TfidfVectorizer\n",
    "\n",
    "tfidf = TfidfVectorizer()\n",
    "\n",
    "matrix_input = tfidf.fit_transform(docs)\n",
    "\n",
    "matrix_input"
   ]
  },
  {
   "cell_type": "code",
   "execution_count": 44,
   "metadata": {},
   "outputs": [
    {
     "data": {
      "text/plain": [
       "array([[0.        , 0.9486833 , 0.        , 0.        , 0.        ,\n",
       "        0.31622777],\n",
       "       [0.        , 0.70710678, 0.        , 0.        , 0.        ,\n",
       "        0.70710678],\n",
       "       [0.        , 0.8       , 0.        , 0.        , 0.        ,\n",
       "        0.6       ],\n",
       "       [0.31209999, 0.        , 0.79048877, 0.52699251, 0.        ,\n",
       "        0.        ],\n",
       "       [0.34171416, 0.        , 0.28849858, 0.57699716, 0.68342833,\n",
       "        0.        ],\n",
       "       [0.        , 0.        , 0.65222614, 0.65222614, 0.38626691,\n",
       "        0.        ]])"
      ]
     },
     "execution_count": 44,
     "metadata": {},
     "output_type": "execute_result"
    }
   ],
   "source": [
    "matrix_input.toarray()"
   ]
  },
  {
   "cell_type": "code",
   "execution_count": 45,
   "metadata": {},
   "outputs": [
    {
     "data": {
      "text/plain": [
       "{'milk': 5, 'bread': 1, 'cat': 2, 'dog': 3, 'bark': 0, 'mew': 4}"
      ]
     },
     "execution_count": 45,
     "metadata": {},
     "output_type": "execute_result"
    }
   ],
   "source": [
    "tfidf.vocabulary_"
   ]
  },
  {
   "cell_type": "code",
   "execution_count": 46,
   "metadata": {},
   "outputs": [
    {
     "data": {
      "text/plain": [
       "NearestNeighbors()"
      ]
     },
     "execution_count": 46,
     "metadata": {},
     "output_type": "execute_result"
    }
   ],
   "source": [
    "from sklearn.neighbors import NearestNeighbors\n",
    "\n",
    "nnc = NearestNeighbors()\n",
    "\n",
    "nnc"
   ]
  },
  {
   "cell_type": "code",
   "execution_count": 47,
   "metadata": {},
   "outputs": [
    {
     "data": {
      "text/plain": [
       "NearestNeighbors()"
      ]
     },
     "execution_count": 47,
     "metadata": {},
     "output_type": "execute_result"
    }
   ],
   "source": [
    "# model training\n",
    "nnc.fit(matrix_input)"
   ]
  },
  {
   "cell_type": "code",
   "execution_count": 54,
   "metadata": {},
   "outputs": [
    {
     "data": {
      "text/plain": [
       "(array([[0.        , 0.32036449, 0.45950584, 1.41421356, 1.41421356,\n",
       "         1.41421356]]),\n",
       " array([[0, 2, 1, 3, 4, 5]]))"
      ]
     },
     "execution_count": 54,
     "metadata": {},
     "output_type": "execute_result"
    }
   ],
   "source": [
    "# matrix_input[0] is reference point\n",
    "# n = 2 is number of neighbors\n",
    "# for n = 5, threshold t value is 1.0 (radius by default) and value of 1 and 2 label is <1 so they will make a cluster\n",
    "# then the other 2 1.4 values will make a separate cluster, make one of them as ref pt.\n",
    "\n",
    "nnc.kneighbors(matrix_input[0], 6)"
   ]
  },
  {
   "cell_type": "code",
   "execution_count": 55,
   "metadata": {},
   "outputs": [
    {
     "data": {
      "text/plain": [
       "(array([array([0.        , 0.45950584, 0.32036449])], dtype=object),\n",
       " array([array([0, 1, 2])], dtype=object))"
      ]
     },
     "execution_count": 55,
     "metadata": {},
     "output_type": "execute_result"
    }
   ],
   "source": [
    "# gives neighbors that fall in 1.0 radius i.e. threshold t\n",
    "\n",
    "nnc.radius_neighbors(matrix_input[0], radius = 1.0)"
   ]
  },
  {
   "cell_type": "markdown",
   "metadata": {},
   "source": [
    "### 4.2.2 Agglomerative Clustering (Bottom Up)"
   ]
  },
  {
   "cell_type": "code",
   "execution_count": 56,
   "metadata": {},
   "outputs": [],
   "source": [
    "corpus = open('dataset3.txt').read()"
   ]
  },
  {
   "cell_type": "code",
   "execution_count": 57,
   "metadata": {},
   "outputs": [],
   "source": [
    "docs_list = corpus.split('\\n')"
   ]
  },
  {
   "cell_type": "code",
   "execution_count": 58,
   "metadata": {},
   "outputs": [
    {
     "data": {
      "text/plain": [
       "['milk bread bread bread : grocery',\n",
       " 'bread milk milk bread : grocery',\n",
       " 'milk milk milk bread bread bread bread : grocery',\n",
       " 'cat cat cat dog dog bark : pets',\n",
       " 'dog dog cat bark mew mew : pets',\n",
       " 'cat dog cat dog mew cat : pets']"
      ]
     },
     "execution_count": 58,
     "metadata": {},
     "output_type": "execute_result"
    }
   ],
   "source": [
    "docs = []\n",
    "for i in docs_list:\n",
    "    if i != '':\n",
    "        docs.append(i)\n",
    "\n",
    "docs"
   ]
  },
  {
   "cell_type": "code",
   "execution_count": 59,
   "metadata": {},
   "outputs": [],
   "source": [
    "x = []\n",
    "for d in docs:\n",
    "    i, l = d.split(':')\n",
    "    x.append(i)"
   ]
  },
  {
   "cell_type": "code",
   "execution_count": 60,
   "metadata": {},
   "outputs": [],
   "source": [
    "from sklearn.feature_extraction.text import CountVectorizer"
   ]
  },
  {
   "cell_type": "code",
   "execution_count": 61,
   "metadata": {},
   "outputs": [],
   "source": [
    "vec = CountVectorizer()"
   ]
  },
  {
   "cell_type": "code",
   "execution_count": 69,
   "metadata": {},
   "outputs": [
    {
     "data": {
      "text/plain": [
       "array([[0, 3, 0, 0, 0, 1],\n",
       "       [0, 2, 0, 0, 0, 2],\n",
       "       [0, 4, 0, 0, 0, 3],\n",
       "       [1, 0, 3, 2, 0, 0],\n",
       "       [1, 0, 1, 2, 2, 0],\n",
       "       [0, 0, 3, 2, 1, 0]])"
      ]
     },
     "execution_count": 69,
     "metadata": {},
     "output_type": "execute_result"
    }
   ],
   "source": [
    "matrix_x = vec.fit_transform(x)\n",
    "matrix_x.toarray()"
   ]
  },
  {
   "cell_type": "code",
   "execution_count": 63,
   "metadata": {},
   "outputs": [],
   "source": [
    "from sklearn.cluster import AgglomerativeClustering"
   ]
  },
  {
   "cell_type": "code",
   "execution_count": 64,
   "metadata": {},
   "outputs": [],
   "source": [
    "aggClus = AgglomerativeClustering()"
   ]
  },
  {
   "cell_type": "code",
   "execution_count": 71,
   "metadata": {},
   "outputs": [
    {
     "data": {
      "text/plain": [
       "AgglomerativeClustering()"
      ]
     },
     "execution_count": 71,
     "metadata": {},
     "output_type": "execute_result"
    }
   ],
   "source": [
    "# matrix_x is sparse matrix, matrix_x.toarray() is dense matrix\n",
    "# in agglomerative clustering, dense matrix is required\n",
    "aggClus.fit(matrix_x.toarray())"
   ]
  },
  {
   "cell_type": "code",
   "execution_count": 72,
   "metadata": {},
   "outputs": [
    {
     "data": {
      "text/plain": [
       "array([1, 1, 1, 0, 0, 0])"
      ]
     },
     "execution_count": 72,
     "metadata": {},
     "output_type": "execute_result"
    }
   ],
   "source": [
    "aggClus.labels_"
   ]
  },
  {
   "cell_type": "markdown",
   "metadata": {},
   "source": [
    "### 4.2.3 Agglomerative Clustering with Parameters"
   ]
  },
  {
   "cell_type": "code",
   "execution_count": 73,
   "metadata": {},
   "outputs": [],
   "source": [
    "corpus = open('dataset4.txt').read()"
   ]
  },
  {
   "cell_type": "code",
   "execution_count": 74,
   "metadata": {},
   "outputs": [],
   "source": [
    "docs_list = corpus.split('\\n')"
   ]
  },
  {
   "cell_type": "code",
   "execution_count": 75,
   "metadata": {},
   "outputs": [
    {
     "data": {
      "text/plain": [
       "['milk bread bread bread',\n",
       " 'bread milk milk bread',\n",
       " 'milk milk milk bread bread bread bread',\n",
       " 'cat cat cat dog dog bark',\n",
       " 'dog dog cat bark mew mew',\n",
       " 'cat dog cat dog mew']"
      ]
     },
     "execution_count": 75,
     "metadata": {},
     "output_type": "execute_result"
    }
   ],
   "source": [
    "docs = []\n",
    "for i in docs_list:\n",
    "    if i != '':\n",
    "        docs.append(i)\n",
    "\n",
    "docs"
   ]
  },
  {
   "cell_type": "code",
   "execution_count": 76,
   "metadata": {},
   "outputs": [
    {
     "data": {
      "text/plain": [
       "<6x6 sparse matrix of type '<class 'numpy.float64'>'\n",
       "\twith 16 stored elements in Compressed Sparse Row format>"
      ]
     },
     "execution_count": 76,
     "metadata": {},
     "output_type": "execute_result"
    }
   ],
   "source": [
    "from sklearn.feature_extraction.text import TfidfVectorizer\n",
    "\n",
    "tfidf = TfidfVectorizer()\n",
    "\n",
    "matrix_input = tfidf.fit_transform(docs)\n",
    "\n",
    "matrix_input"
   ]
  },
  {
   "cell_type": "code",
   "execution_count": 77,
   "metadata": {},
   "outputs": [
    {
     "data": {
      "text/plain": [
       "array([[0.        , 0.9486833 , 0.        , 0.        , 0.        ,\n",
       "        0.31622777],\n",
       "       [0.        , 0.70710678, 0.        , 0.        , 0.        ,\n",
       "        0.70710678],\n",
       "       [0.        , 0.8       , 0.        , 0.        , 0.        ,\n",
       "        0.6       ],\n",
       "       [0.31209999, 0.        , 0.79048877, 0.52699251, 0.        ,\n",
       "        0.        ],\n",
       "       [0.34171416, 0.        , 0.28849858, 0.57699716, 0.68342833,\n",
       "        0.        ],\n",
       "       [0.        , 0.        , 0.65222614, 0.65222614, 0.38626691,\n",
       "        0.        ]])"
      ]
     },
     "execution_count": 77,
     "metadata": {},
     "output_type": "execute_result"
    }
   ],
   "source": [
    "matrix_input.toarray()"
   ]
  },
  {
   "cell_type": "code",
   "execution_count": 78,
   "metadata": {},
   "outputs": [],
   "source": [
    "from sklearn.cluster import AgglomerativeClustering"
   ]
  },
  {
   "cell_type": "code",
   "execution_count": 79,
   "metadata": {},
   "outputs": [],
   "source": [
    "# affinity = euclidean (distance)\n",
    "# linkage = type of linkage like ward, single\n",
    "# n_clusters = number of clusters\n",
    "\n",
    "aggClus = AgglomerativeClustering(n_clusters = 3)"
   ]
  },
  {
   "cell_type": "code",
   "execution_count": 80,
   "metadata": {},
   "outputs": [
    {
     "data": {
      "text/plain": [
       "AgglomerativeClustering(n_clusters=3)"
      ]
     },
     "execution_count": 80,
     "metadata": {},
     "output_type": "execute_result"
    }
   ],
   "source": [
    "aggClus.fit(matrix_input.toarray())"
   ]
  },
  {
   "cell_type": "code",
   "execution_count": 81,
   "metadata": {},
   "outputs": [
    {
     "data": {
      "text/plain": [
       "array([1, 1, 1, 0, 2, 0])"
      ]
     },
     "execution_count": 81,
     "metadata": {},
     "output_type": "execute_result"
    }
   ],
   "source": [
    "aggClus.labels_"
   ]
  },
  {
   "cell_type": "markdown",
   "metadata": {},
   "source": [
    "### 4.2.4 Clustering UCI Repo dataset"
   ]
  },
  {
   "cell_type": "code",
   "execution_count": 95,
   "metadata": {},
   "outputs": [],
   "source": [
    "import pandas as pd"
   ]
  },
  {
   "cell_type": "code",
   "execution_count": 96,
   "metadata": {},
   "outputs": [],
   "source": [
    "corpus = pd.read_csv('dataset2.csv', encoding='latin-1', delimiter = '\\n')"
   ]
  },
  {
   "cell_type": "code",
   "execution_count": 97,
   "metadata": {},
   "outputs": [
    {
     "data": {
      "text/html": [
       "<div>\n",
       "<style scoped>\n",
       "    .dataframe tbody tr th:only-of-type {\n",
       "        vertical-align: middle;\n",
       "    }\n",
       "\n",
       "    .dataframe tbody tr th {\n",
       "        vertical-align: top;\n",
       "    }\n",
       "\n",
       "    .dataframe thead th {\n",
       "        text-align: right;\n",
       "    }\n",
       "</style>\n",
       "<table border=\"1\" class=\"dataframe\">\n",
       "  <thead>\n",
       "    <tr style=\"text-align: right;\">\n",
       "      <th></th>\n",
       "      <th>Review,,,,,,,,,,,,,,,,</th>\n",
       "    </tr>\n",
       "  </thead>\n",
       "  <tbody>\n",
       "    <tr>\n",
       "      <th>0</th>\n",
       "      <td>Everything from the weather, staff, food, pro...</td>\n",
       "    </tr>\n",
       "    <tr>\n",
       "      <th>1</th>\n",
       "      <td>The hotel it is fantastic built by the sea, li...</td>\n",
       "    </tr>\n",
       "    <tr>\n",
       "      <th>2</th>\n",
       "      <td>One dream! Cozy  and comfortable Hotel!  The b...</td>\n",
       "    </tr>\n",
       "    <tr>\n",
       "      <th>3</th>\n",
       "      <td>Hotel concept is hard to grasp. They communica...</td>\n",
       "    </tr>\n",
       "    <tr>\n",
       "      <th>4</th>\n",
       "      <td>This is a wonderful hotel, for a romantic esca...</td>\n",
       "    </tr>\n",
       "    <tr>\n",
       "      <th>...</th>\n",
       "      <td>...</td>\n",
       "    </tr>\n",
       "    <tr>\n",
       "      <th>396</th>\n",
       "      <td>An extraordinary place! Amazing, architec...</td>\n",
       "    </tr>\n",
       "    <tr>\n",
       "      <th>397</th>\n",
       "      <td>What a wonderful place to relax and enjoy...</td>\n",
       "    </tr>\n",
       "    <tr>\n",
       "      <th>398</th>\n",
       "      <td>Thank you for the best ever. And the best...</td>\n",
       "    </tr>\n",
       "    <tr>\n",
       "      <th>399</th>\n",
       "      <td>As you know we have just returned home after 5...</td>\n",
       "    </tr>\n",
       "    <tr>\n",
       "      <th>400</th>\n",
       "      <td>SPA is excellent. I worked only with one l...</td>\n",
       "    </tr>\n",
       "  </tbody>\n",
       "</table>\n",
       "<p>401 rows × 1 columns</p>\n",
       "</div>"
      ],
      "text/plain": [
       "                                Review,,,,,,,,,,,,,,,,\n",
       "0     Everything from the weather, staff, food, pro...\n",
       "1    The hotel it is fantastic built by the sea, li...\n",
       "2    One dream! Cozy  and comfortable Hotel!  The b...\n",
       "3    Hotel concept is hard to grasp. They communica...\n",
       "4    This is a wonderful hotel, for a romantic esca...\n",
       "..                                                 ...\n",
       "396       An extraordinary place! Amazing, architec...\n",
       "397       What a wonderful place to relax and enjoy...\n",
       "398       Thank you for the best ever. And the best...\n",
       "399  As you know we have just returned home after 5...\n",
       "400      SPA is excellent. I worked only with one l...\n",
       "\n",
       "[401 rows x 1 columns]"
      ]
     },
     "execution_count": 97,
     "metadata": {},
     "output_type": "execute_result"
    }
   ],
   "source": [
    "corpus"
   ]
  },
  {
   "cell_type": "code",
   "execution_count": 98,
   "metadata": {},
   "outputs": [],
   "source": [
    "data = corpus.values"
   ]
  },
  {
   "cell_type": "code",
   "execution_count": 99,
   "metadata": {},
   "outputs": [],
   "source": [
    "clean_data = [data[i][0] for i in range(0,len(data))]"
   ]
  },
  {
   "cell_type": "code",
   "execution_count": 100,
   "metadata": {},
   "outputs": [],
   "source": [
    "from sklearn.feature_extraction.text import TfidfVectorizer"
   ]
  },
  {
   "cell_type": "code",
   "execution_count": 101,
   "metadata": {},
   "outputs": [],
   "source": [
    "vec = TfidfVectorizer()"
   ]
  },
  {
   "cell_type": "code",
   "execution_count": 102,
   "metadata": {},
   "outputs": [],
   "source": [
    "matrix_input = vec.fit_transform(clean_data)"
   ]
  },
  {
   "cell_type": "code",
   "execution_count": 103,
   "metadata": {},
   "outputs": [
    {
     "data": {
      "text/plain": [
       "<401x2457 sparse matrix of type '<class 'numpy.float64'>'\n",
       "\twith 13465 stored elements in Compressed Sparse Row format>"
      ]
     },
     "execution_count": 103,
     "metadata": {},
     "output_type": "execute_result"
    }
   ],
   "source": [
    "matrix_input"
   ]
  },
  {
   "cell_type": "code",
   "execution_count": 104,
   "metadata": {},
   "outputs": [],
   "source": [
    "from sklearn.cluster import KMeans"
   ]
  },
  {
   "cell_type": "code",
   "execution_count": 111,
   "metadata": {},
   "outputs": [],
   "source": [
    "km = KMeans(n_clusters = 5)"
   ]
  },
  {
   "cell_type": "code",
   "execution_count": 112,
   "metadata": {},
   "outputs": [
    {
     "data": {
      "text/plain": [
       "KMeans(n_clusters=5)"
      ]
     },
     "execution_count": 112,
     "metadata": {},
     "output_type": "execute_result"
    }
   ],
   "source": [
    "km.fit(matrix_input)"
   ]
  },
  {
   "cell_type": "code",
   "execution_count": 113,
   "metadata": {},
   "outputs": [
    {
     "data": {
      "text/plain": [
       "array([4, 0, 0, 4, 0, 2, 0, 2, 0, 2, 3, 4, 3, 4, 0, 1, 0, 0, 0, 0, 0, 0,\n",
       "       0, 0, 0, 4, 4, 0, 1, 4, 0, 0, 4, 0, 1, 0, 0, 0, 4, 2, 4, 2, 2, 0,\n",
       "       4, 4, 1, 2, 4, 0, 4, 4, 2, 4, 2, 4, 4, 0, 4, 3, 2, 4, 4, 2, 2, 4,\n",
       "       4, 2, 1, 4, 0, 1, 4, 4, 1, 4, 0, 4, 4, 0, 4, 2, 3, 4, 0, 2, 4, 4,\n",
       "       4, 2, 4, 3, 4, 3, 3, 2, 3, 4, 3, 2, 4, 2, 1, 1, 1, 4, 4, 0, 0, 0,\n",
       "       0, 0, 0, 1, 4, 1, 4, 4, 4, 3, 4, 2, 4, 2, 4, 4, 4, 4, 4, 2, 3, 1,\n",
       "       4, 2, 4, 1, 4, 3, 0, 2, 3, 4, 2, 2, 1, 2, 3, 4, 2, 4, 3, 4, 0, 0,\n",
       "       1, 0, 0, 0, 4, 0, 0, 0, 0, 0, 1, 4, 0, 2, 0, 0, 4, 0, 3, 1, 1, 1,\n",
       "       4, 3, 1, 2, 1, 4, 3, 1, 1, 2, 0, 4, 2, 4, 1, 2, 4, 2, 3, 4, 0, 4,\n",
       "       3, 1, 1, 1, 2, 4, 4, 3, 1, 4, 2, 4, 4, 0, 4, 0, 4, 0, 3, 2, 0, 0,\n",
       "       1, 0, 0, 0, 0, 0, 4, 2, 1, 4, 2, 4, 3, 4, 3, 4, 2, 4, 3, 1, 3, 4,\n",
       "       4, 1, 4, 1, 3, 1, 1, 4, 1, 4, 4, 1, 3, 3, 2, 3, 1, 4, 0, 4, 0, 0,\n",
       "       0, 0, 1, 1, 1, 0, 1, 4, 0, 3, 1, 1, 0, 0, 1, 0, 0, 0, 4, 1, 0, 0,\n",
       "       2, 0, 0, 0, 0, 0, 4, 0, 0, 0, 0, 0, 0, 0, 0, 0, 0, 0, 0, 0, 0, 0,\n",
       "       0, 0, 1, 0, 0, 4, 0, 0, 0, 1, 4, 3, 4, 4, 4, 0, 4, 4, 3, 3, 3, 3,\n",
       "       4, 0, 3, 3, 3, 4, 4, 0, 4, 4, 1, 3, 4, 4, 4, 4, 3, 1, 3, 3, 3, 4,\n",
       "       1, 1, 3, 1, 4, 1, 3, 3, 2, 1, 3, 2, 3, 3, 3, 2, 4, 0, 1, 4, 1, 3,\n",
       "       4, 4, 3, 1, 3, 3, 4, 3, 4, 4, 3, 4, 1, 4, 4, 3, 0, 3, 4, 3, 3, 4,\n",
       "       4, 4, 0, 0, 0], dtype=int32)"
      ]
     },
     "execution_count": 113,
     "metadata": {},
     "output_type": "execute_result"
    }
   ],
   "source": [
    "km.labels_"
   ]
  },
  {
   "cell_type": "markdown",
   "metadata": {},
   "source": [
    "### 4.1.7 Setting Clustering Parameters"
   ]
  },
  {
   "cell_type": "code",
   "execution_count": 114,
   "metadata": {},
   "outputs": [],
   "source": [
    "from sklearn.cluster import KMeans"
   ]
  },
  {
   "cell_type": "code",
   "execution_count": 115,
   "metadata": {},
   "outputs": [
    {
     "data": {
      "text/plain": [
       "KMeans(max_iter=100, n_clusters=3, tol=0.01)"
      ]
     },
     "execution_count": 115,
     "metadata": {},
     "output_type": "execute_result"
    }
   ],
   "source": [
    "# PARAMETERS\n",
    "# algorithm='auto' : effects on memory and computational cost, options are 'full' or 'elkan'\n",
    "# copy_x=True : wether distances to be computed of original objects or their copies\n",
    "# init='k-means++' : allowing algo to investigate most appropriate position to throw centroid at\n",
    "# max_iter=300 : no. of iterations, repositioning of centroids\n",
    "# n_clusters : no. of centroids thrown randomly\n",
    "# n_init=10 : defines no. of attempts model will make to cluster the data, 10 times run with different centroids and then based on commulative score final output is generated\n",
    "# n_jobs=None : deals with multiple threads, helps in reducing computational cost\n",
    "# precompute_distances='auto' : reduces computational cost, uses precomputed distances , but memory cost increases (trade off)\n",
    "# tol=0.0001 : tolerance, centroid pos. in current iter - centroid pos. in prev. iter = diff, if diff < tol then centroids are not getting too much modified and this level of accuracy is acceptable\n",
    "# verbose=0 : kind of info you want when algo runs, if high val then it means we want more info, 0 means we just want output and no other info\n",
    "\n",
    "\n",
    "km = KMeans(n_clusters=3, max_iter=100, tol=0.01 )\n",
    "km"
   ]
  },
  {
   "cell_type": "code",
   "execution_count": 116,
   "metadata": {},
   "outputs": [],
   "source": [
    "from sklearn.neighbors import NearestNeighbors"
   ]
  },
  {
   "cell_type": "code",
   "execution_count": 11,
   "metadata": {},
   "outputs": [
    {
     "data": {
      "text/plain": [
       "NearestNeighbors()"
      ]
     },
     "execution_count": 11,
     "metadata": {},
     "output_type": "execute_result"
    }
   ],
   "source": [
    "# PARAMETERS\n",
    "# algorithm='auto' : options are 'ball_tree' or 'kd_tree' or 'brute', effects comp. cost\n",
    "# leaf_size=30 : for ball tree or KD tree, effects comp. cost and memory cost\n",
    "# p=2 : 2 for euclidean distan, 1 for manhattan distance\n",
    "# p, metric, metric_params are all related\n",
    "# n_jobs=None : deals with multiple threads, helps in reducing computational cost\n",
    "# n_neighbors=5 : no. of neighbors to use for KNeighbors query\n",
    "# radius=1.0 : radius in which neigbors are to be found\n",
    "\n",
    "\n",
    "nn = NearestNeighbors()\n",
    "nn"
   ]
  },
  {
   "cell_type": "markdown",
   "metadata": {},
   "source": [
    "### 4.2.5 Calculating suitable value of K"
   ]
  },
  {
   "cell_type": "code",
   "execution_count": 117,
   "metadata": {},
   "outputs": [],
   "source": [
    "import pandas as pd\n",
    "\n",
    "corpus = pd.read_csv('dataset2.csv', encoding='Latin-1', delimiter='\\n')\n",
    "\n",
    "raw_data = corpus.values\n",
    "\n",
    "dataset = [raw_data[i][0] for i in range(0, len(raw_data))]"
   ]
  },
  {
   "cell_type": "code",
   "execution_count": 118,
   "metadata": {},
   "outputs": [],
   "source": [
    "import numpy as np\n",
    "\n",
    "# centroids near 0, 10, 20\n",
    "docs = np.array([[1,1], [1,3], [2,4], [3,1], [5,3], \n",
    "                 [11,10], [15,12], [12,12], [14,10], [11,13],\n",
    "                 [20,22], [23,21], [24,20], [21,23], [24,25]])"
   ]
  },
  {
   "cell_type": "code",
   "execution_count": 119,
   "metadata": {},
   "outputs": [],
   "source": [
    "from sklearn.feature_extraction.text import TfidfVectorizer\n",
    "\n",
    "vec = TfidfVectorizer(max_features = 100)\n",
    "\n",
    "matrix_input = vec.fit_transform(dataset)"
   ]
  },
  {
   "cell_type": "code",
   "execution_count": 120,
   "metadata": {},
   "outputs": [],
   "source": [
    "from sklearn.cluster import KMeans"
   ]
  },
  {
   "cell_type": "code",
   "execution_count": 121,
   "metadata": {},
   "outputs": [],
   "source": [
    "km1 = KMeans(n_clusters=1)\n",
    "km2 = KMeans(n_clusters=2)\n",
    "km3 = KMeans(n_clusters=3)\n",
    "km4 = KMeans(n_clusters=4)\n",
    "km5 = KMeans(n_clusters=5)"
   ]
  },
  {
   "cell_type": "code",
   "execution_count": 122,
   "metadata": {},
   "outputs": [
    {
     "data": {
      "text/plain": [
       "KMeans(n_clusters=5)"
      ]
     },
     "execution_count": 122,
     "metadata": {},
     "output_type": "execute_result"
    }
   ],
   "source": [
    "km1.fit(docs)\n",
    "km2.fit(docs)\n",
    "km3.fit(docs)\n",
    "km4.fit(docs)\n",
    "km5.fit(docs)"
   ]
  },
  {
   "cell_type": "code",
   "execution_count": 124,
   "metadata": {},
   "outputs": [
    {
     "data": {
      "text/plain": [
       "(2049.7333333333336,\n",
       " 529.4000000000001,\n",
       " 66.80000000000001,\n",
       " 53.13333333333333,\n",
       " 40.56666666666666)"
      ]
     },
     "execution_count": 124,
     "metadata": {},
     "output_type": "execute_result"
    }
   ],
   "source": [
    "# squared error\n",
    "km1.inertia_, km2.inertia_, km3.inertia_, km4.inertia_, km5.inertia_"
   ]
  },
  {
   "cell_type": "code",
   "execution_count": 66,
   "metadata": {},
   "outputs": [],
   "source": [
    "from matplotlib import pyplot as plt"
   ]
  },
  {
   "cell_type": "code",
   "execution_count": 68,
   "metadata": {},
   "outputs": [
    {
     "data": {
      "image/png": "[encoded data removed]",
      "text/plain": [
       "<Figure size 432x288 with 1 Axes>"
      ]
     },
     "metadata": {
      "needs_background": "light"
     },
     "output_type": "display_data"
    }
   ],
   "source": [
    "plt.figure()\n",
    "# x-axis : n_clusters    y-axis : inertia_\n",
    "plt.plot([1, 2, 3, 4, 5], [km1.inertia_, km2.inertia_, km3.inertia_, km4.inertia_, km5.inertia_])\n",
    "plt.xlabel('No. of clusters')\n",
    "plt.ylabel('Sum of SE')\n",
    "plt.title('Knee finding')\n",
    "plt.show()"
   ]
  },
  {
   "cell_type": "code",
   "execution_count": 60,
   "metadata": {},
   "outputs": [],
   "source": [
    "dic = {}\n",
    "for i in range(1, 21):\n",
    "    km = KMeans(n_clusters = i)\n",
    "    km.fit(matrix_input)\n",
    "    dic[i] = km.inertia_"
   ]
  },
  {
   "cell_type": "code",
   "execution_count": 61,
   "metadata": {},
   "outputs": [],
   "source": [
    "#dic"
   ]
  },
  {
   "cell_type": "code",
   "execution_count": 62,
   "metadata": {},
   "outputs": [
    {
     "data": {
      "image/png": "[encoded data removed]",
      "text/plain": [
       "<Figure size 432x288 with 1 Axes>"
      ]
     },
     "metadata": {
      "needs_background": "light"
     },
     "output_type": "display_data"
    }
   ],
   "source": [
    "plt.figure()\n",
    "# x-axis : n_clusters    y-axis : inertia_\n",
    "plt.plot(list(dic.keys()), list(dic.values()))\n",
    "plt.xlabel('No. of clusters')\n",
    "plt.ylabel('Sum of SE')\n",
    "plt.title('Knee finding')\n",
    "plt.show()"
   ]
  },
  {
   "cell_type": "markdown",
   "metadata": {},
   "source": [
    "### Assignment"
   ]
  },
  {
   "cell_type": "code",
   "execution_count": 174,
   "metadata": {},
   "outputs": [],
   "source": [
    "import pandas as pd\n",
    "from sklearn.feature_extraction.text import TfidfVectorizer\n",
    "from sklearn.neighbors import NearestNeighbors"
   ]
  },
  {
   "cell_type": "code",
   "execution_count": 175,
   "metadata": {},
   "outputs": [],
   "source": [
    "corpus = open('dataset2.csv', encoding='latin-1').read()"
   ]
  },
  {
   "cell_type": "code",
   "execution_count": 176,
   "metadata": {},
   "outputs": [],
   "source": [
    "docs_list = corpus.split('\\n')"
   ]
  },
  {
   "cell_type": "code",
   "execution_count": 177,
   "metadata": {},
   "outputs": [],
   "source": [
    "# to remove '' at the end of file\n",
    "docs = []\n",
    "for i in docs_list:\n",
    "    if i != '':\n",
    "        docs.append(i)"
   ]
  },
  {
   "cell_type": "code",
   "execution_count": 178,
   "metadata": {},
   "outputs": [],
   "source": [
    "vec = TfidfVectorizer()"
   ]
  },
  {
   "cell_type": "code",
   "execution_count": 179,
   "metadata": {},
   "outputs": [],
   "source": [
    "matrix_input = vec.fit_transform(docs)"
   ]
  },
  {
   "cell_type": "code",
   "execution_count": 187,
   "metadata": {},
   "outputs": [],
   "source": [
    "nn1 = NearestNeighbors(radius=0.25)\n",
    "nn2 = NearestNeighbors(radius=0.5)\n",
    "nn3 = NearestNeighbors(radius=0.75)\n",
    "nn4 = NearestNeighbors(radius=1.0)\n",
    "nn5 = NearestNeighbors(radius=1.5)"
   ]
  },
  {
   "cell_type": "code",
   "execution_count": 188,
   "metadata": {},
   "outputs": [
    {
     "data": {
      "text/plain": [
       "NearestNeighbors(radius=1.5)"
      ]
     },
     "execution_count": 188,
     "metadata": {},
     "output_type": "execute_result"
    }
   ],
   "source": [
    "nn1.fit(matrix_input)\n",
    "nn2.fit(matrix_input)\n",
    "nn3.fit(matrix_input)\n",
    "nn4.fit(matrix_input)\n",
    "nn5.fit(matrix_input)"
   ]
  },
  {
   "cell_type": "code",
   "execution_count": 195,
   "metadata": {},
   "outputs": [
    {
     "data": {
      "text/plain": [
       "(array([array([0.])], dtype=object), array([array([0])], dtype=object))"
      ]
     },
     "execution_count": 195,
     "metadata": {},
     "output_type": "execute_result"
    }
   ],
   "source": [
    "nn1.radius_neighbors(matrix_input[0])"
   ]
  },
  {
   "cell_type": "code",
   "execution_count": 194,
   "metadata": {},
   "outputs": [
    {
     "data": {
      "text/plain": [
       "(array([array([0.])], dtype=object), array([array([0])], dtype=object))"
      ]
     },
     "execution_count": 194,
     "metadata": {},
     "output_type": "execute_result"
    }
   ],
   "source": [
    "nn2.radius_neighbors(matrix_input[0])"
   ]
  },
  {
   "cell_type": "code",
   "execution_count": 193,
   "metadata": {},
   "outputs": [
    {
     "data": {
      "text/plain": [
       "(array([array([0.])], dtype=object), array([array([0])], dtype=object))"
      ]
     },
     "execution_count": 193,
     "metadata": {},
     "output_type": "execute_result"
    }
   ],
   "source": [
    "nn3.radius_neighbors(matrix_input[0])"
   ]
  },
  {
   "cell_type": "code",
   "execution_count": 192,
   "metadata": {},
   "outputs": [
    {
     "data": {
      "text/plain": [
       "(array([array([0., 1., 1., 1., 1., 1., 1., 1., 1., 1., 1., 1., 1.])],\n",
       "       dtype=object),\n",
       " array([array([  0,  28, 193, 202, 213, 227, 289, 412, 414, 422, 448, 520, 561])],\n",
       "       dtype=object))"
      ]
     },
     "execution_count": 192,
     "metadata": {},
     "output_type": "execute_result"
    }
   ],
   "source": [
    "nn4.radius_neighbors(matrix_input[0])"
   ]
  },
  {
   "cell_type": "code",
   "execution_count": 207,
   "metadata": {},
   "outputs": [
    {
     "data": {
      "text/plain": [
       "(array([array([0.        , 1.41421356, 1.41421356, 1.41421356, 1.41421356,\n",
       "        1.41421356, 1.41421356, 1.41421356, 1.41421356, 1.41421356,\n",
       "        1.41421356, 1.41421356, 1.41421356, 1.41421356, 1.41421356,\n",
       "        1.41421356, 1.41421356, 1.41421356, 1.41421356, 1.41421356,\n",
       "        1.41421356, 1.41421356, 1.41421356, 1.41421356, 1.41421356,\n",
       "        1.41421356, 1.41421356, 1.41421356, 1.        , 1.41421356,\n",
       "        1.41421356, 1.41421356, 1.41421356, 1.41421356, 1.41421356,\n",
       "        1.41421356, 1.41421356, 1.41421356, 1.41421356, 1.41421356,\n",
       "        1.41421356, 1.41421356, 1.41421356, 1.41421356, 1.41421356,\n",
       "        1.41421356, 1.41421356, 1.41421356, 1.41421356, 1.41421356,\n",
       "        1.41421356, 1.41421356, 1.41421356, 1.41421356, 1.41421356,\n",
       "        1.41421356, 1.41421356, 1.41421356, 1.41421356, 1.41421356,\n",
       "        1.41421356, 1.41421356, 1.41421356, 1.41421356, 1.41421356,\n",
       "        1.41421356, 1.41421356, 1.41421356, 1.41421356, 1.41421356,\n",
       "        1.41421356, 1.41421356, 1.41421356, 1.41421356, 1.41421356,\n",
       "        1.41421356, 1.41421356, 1.41421356, 1.41421356, 1.41421356,\n",
       "        1.41421356, 1.41421356, 1.41421356, 1.41421356, 1.41421356,\n",
       "        1.41421356, 1.41421356, 1.41421356, 1.41421356, 1.41421356,\n",
       "        1.41421356, 1.41421356, 1.41421356, 1.41421356, 1.41421356,\n",
       "        1.41421356, 1.41421356, 1.41421356, 1.41421356, 1.41421356,\n",
       "        1.41421356, 1.41421356, 1.41421356, 1.41421356, 1.41421356,\n",
       "        1.41421356, 1.41421356, 1.41421356, 1.41421356, 1.41421356,\n",
       "        1.41421356, 1.41421356, 1.41421356, 1.41421356, 1.41421356,\n",
       "        1.41421356, 1.41421356, 1.41421356, 1.41421356, 1.41421356,\n",
       "        1.41421356, 1.41421356, 1.41421356, 1.41421356, 1.41421356,\n",
       "        1.41421356, 1.41421356, 1.41421356, 1.41421356, 1.41421356,\n",
       "        1.41421356, 1.41421356, 1.41421356, 1.41421356, 1.41421356,\n",
       "        1.41421356, 1.41421356, 1.41421356, 1.41421356, 1.41421356,\n",
       "        1.41421356, 1.41421356, 1.41421356, 1.41421356, 1.41421356,\n",
       "        1.41421356, 1.41421356, 1.41421356, 1.41421356, 1.41421356,\n",
       "        1.41421356, 1.41421356, 1.41421356, 1.41421356, 1.41421356,\n",
       "        1.41421356, 1.41421356, 1.41421356, 1.41421356, 1.41421356,\n",
       "        1.41421356, 1.41421356, 1.41421356, 1.41421356, 1.41421356,\n",
       "        1.41421356, 1.41421356, 1.41421356, 1.41421356, 1.41421356,\n",
       "        1.41421356, 1.41421356, 1.41421356, 1.41421356, 1.41421356,\n",
       "        1.41421356, 1.41421356, 1.41421356, 1.41421356, 1.41421356,\n",
       "        1.41421356, 1.41421356, 1.41421356, 1.41421356, 1.41421356,\n",
       "        1.41421356, 1.41421356, 1.41421356, 1.41421356, 1.41421356,\n",
       "        1.41421356, 1.41421356, 1.41421356, 1.        , 1.41421356,\n",
       "        1.41421356, 1.41421356, 1.41421356, 1.41421356, 1.41421356,\n",
       "        1.41421356, 1.41421356, 1.        , 1.41421356, 1.41421356,\n",
       "        1.41421356, 1.41421356, 1.41421356, 1.41421356, 1.41421356,\n",
       "        1.41421356, 1.41421356, 1.41421356, 1.        , 1.41421356,\n",
       "        1.41421356, 1.41421356, 1.41421356, 1.41421356, 1.41421356,\n",
       "        1.41421356, 1.28930398, 1.41421356, 1.41421356, 1.41421356,\n",
       "        1.41421356, 1.41421356, 1.        , 1.41421356, 1.41421356,\n",
       "        1.41421356, 1.41421356, 1.41421356, 1.41421356, 1.41421356,\n",
       "        1.41421356, 1.41421356, 1.41421356, 1.41421356, 1.41421356,\n",
       "        1.41421356, 1.41421356, 1.41421356, 1.41421356, 1.41421356,\n",
       "        1.41421356, 1.41421356, 1.41421356, 1.41421356, 1.41421356,\n",
       "        1.41421356, 1.41421356, 1.41421356, 1.41421356, 1.41421356,\n",
       "        1.41421356, 1.41421356, 1.41421356, 1.41421356, 1.41421356,\n",
       "        1.41421356, 1.41421356, 1.41421356, 1.41421356, 1.41421356,\n",
       "        1.41421356, 1.41421356, 1.41421356, 1.41421356, 1.41421356,\n",
       "        1.41421356, 1.41421356, 1.41421356, 1.41421356, 1.41421356,\n",
       "        1.41421356, 1.41421356, 1.41421356, 1.41421356, 1.41421356,\n",
       "        1.41421356, 1.41421356, 1.41421356, 1.41421356, 1.41421356,\n",
       "        1.41421356, 1.41421356, 1.41421356, 1.41421356, 1.        ,\n",
       "        1.41421356, 1.41421356, 1.41421356, 1.41421356, 1.41421356,\n",
       "        1.41421356, 1.41421356, 1.41421356, 1.41421356, 1.41421356,\n",
       "        1.41421356, 1.41421356, 1.41421356, 1.41421356, 1.41421356,\n",
       "        1.41421356, 1.41421356, 1.41421356, 1.41421356, 1.41421356,\n",
       "        1.41421356, 1.41421356, 1.41421356, 1.41421356, 1.41421356,\n",
       "        1.41421356, 1.41421356, 1.41421356, 1.41421356, 1.41421356,\n",
       "        1.41421356, 1.41421356, 1.41421356, 1.41421356, 1.41421356,\n",
       "        1.41421356, 1.41421356, 1.41421356, 1.41421356, 1.41421356,\n",
       "        1.41421356, 1.41421356, 1.41421356, 1.41421356, 1.41421356,\n",
       "        1.41421356, 1.41421356, 1.41421356, 1.41421356, 1.41421356,\n",
       "        1.41421356, 1.41421356, 1.41421356, 1.41421356, 1.41421356,\n",
       "        1.41421356, 1.41421356, 1.41421356, 1.41421356, 1.41421356,\n",
       "        1.41421356, 1.16627098, 1.41421356, 1.41421356, 1.41421356,\n",
       "        1.41421356, 1.41421356, 1.41421356, 1.41421356, 1.41421356,\n",
       "        1.41421356, 1.41421356, 1.41421356, 1.41421356, 1.41421356,\n",
       "        1.41421356, 1.41421356, 1.41421356, 1.41421356, 1.41421356,\n",
       "        1.41421356, 1.41421356, 1.41421356, 1.41421356, 1.41421356,\n",
       "        1.41421356, 1.41421356, 1.41421356, 1.41421356, 1.41421356,\n",
       "        1.41421356, 1.41421356, 1.41421356, 1.41421356, 1.41421356,\n",
       "        1.41421356, 1.41421356, 1.41421356, 1.41421356, 1.41421356,\n",
       "        1.41421356, 1.41421356, 1.41421356, 1.41421356, 1.41421356,\n",
       "        1.41421356, 1.41421356, 1.41421356, 1.41421356, 1.41421356,\n",
       "        1.41421356, 1.41421356, 1.41421356, 1.41421356, 1.41421356,\n",
       "        1.41421356, 1.41421356, 1.41421356, 1.41421356, 1.41421356,\n",
       "        1.41421356, 1.41421356, 1.        , 1.26552104, 1.        ,\n",
       "        1.41421356, 1.41421356, 1.41421356, 1.41421356, 1.32578735,\n",
       "        1.41421356, 1.41421356, 1.        , 1.41421356, 1.41421356,\n",
       "        1.41421356, 1.41421356, 1.41421356, 1.41421356, 1.41421356,\n",
       "        1.41421356, 1.41421356, 1.41421356, 1.41421356, 1.41421356,\n",
       "        1.41421356, 1.41421356, 1.41421356, 1.41421356, 1.41421356,\n",
       "        1.41421356, 1.41421356, 1.41421356, 1.41421356, 1.41421356,\n",
       "        1.41421356, 1.41421356, 1.41421356, 1.        , 1.41421356,\n",
       "        1.41421356, 1.41421356, 1.41421356, 1.41421356, 1.41421356,\n",
       "        1.41421356, 1.41421356, 1.41421356, 1.41421356, 1.41421356,\n",
       "        1.41421356, 1.41421356, 1.41421356, 1.41421356, 1.41421356,\n",
       "        1.41421356, 1.41421356, 1.41421356, 1.41421356, 1.41421356,\n",
       "        1.41421356, 1.41421356, 1.41421356, 1.41421356, 1.41421356,\n",
       "        1.41421356, 1.41421356, 1.41421356, 1.41421356, 1.41421356,\n",
       "        1.41421356, 1.41421356, 1.41421356, 1.41421356, 1.41421356,\n",
       "        1.41421356, 1.41421356, 1.41421356, 1.41421356, 1.41421356,\n",
       "        1.41421356, 1.41421356, 1.41421356, 1.41421356, 1.41421356,\n",
       "        1.41421356, 1.41421356, 1.41421356, 1.41421356, 1.41421356,\n",
       "        1.41421356, 1.41421356, 1.41421356, 1.41421356, 1.41421356,\n",
       "        1.41421356, 1.41421356, 1.41421356, 1.41421356, 1.41421356,\n",
       "        1.41421356, 1.41421356, 1.41421356, 1.41421356, 1.41421356,\n",
       "        1.41421356, 1.41421356, 1.41421356, 1.41421356, 1.41421356,\n",
       "        1.        , 1.41421356, 1.41421356, 1.41421356, 1.41421356,\n",
       "        1.41421356, 1.41421356, 1.41421356, 1.41421356, 1.41421356,\n",
       "        1.41421356, 1.41421356, 1.41421356, 1.41421356, 1.41421356,\n",
       "        1.41421356, 1.41421356, 1.41421356, 1.41421356, 1.41421356,\n",
       "        1.41421356, 1.41421356, 1.41421356, 1.41421356, 1.41421356,\n",
       "        1.41421356, 1.41421356, 1.32390101, 1.41421356, 1.41421356,\n",
       "        1.41421356, 1.41421356, 1.41421356, 1.41421356, 1.41421356,\n",
       "        1.41421356, 1.41421356, 1.41421356, 1.41421356, 1.41421356,\n",
       "        1.41421356, 1.        , 1.41421356, 1.41421356, 1.41421356,\n",
       "        1.41421356, 1.41421356, 1.41421356, 1.41421356, 1.41421356,\n",
       "        1.41421356, 1.41421356, 1.41421356, 1.41421356, 1.41421356,\n",
       "        1.41421356, 1.41421356, 1.41421356, 1.41421356, 1.41421356,\n",
       "        1.41421356, 1.41421356, 1.41421356, 1.41421356, 1.41421356,\n",
       "        1.41421356, 1.41421356, 1.41421356, 1.41421356, 1.41421356,\n",
       "        1.41421356, 1.41421356, 1.41421356, 1.41421356, 1.41421356,\n",
       "        1.41421356, 1.41421356, 1.41421356, 1.41421356, 1.41421356,\n",
       "        1.41421356, 1.41421356, 1.41421356, 1.41421356, 1.41421356,\n",
       "        1.41421356, 1.41421356, 1.41421356, 1.41421356, 1.41421356,\n",
       "        1.41421356, 1.41421356, 1.41421356, 1.41421356, 1.41421356,\n",
       "        1.41421356, 1.41421356, 1.41421356, 1.41421356, 1.41421356,\n",
       "        1.41421356, 1.41421356, 1.41421356, 1.41421356, 1.41421356,\n",
       "        1.41421356, 1.41421356, 1.41421356, 1.41421356, 1.41421356,\n",
       "        1.41421356, 1.41421356, 1.41421356, 1.41421356, 1.41421356,\n",
       "        1.41421356, 1.41421356, 1.41421356, 1.41421356, 1.41421356,\n",
       "        1.41421356, 1.41421356, 1.41421356, 1.41421356, 1.41421356,\n",
       "        1.41421356])], dtype=object),\n",
       " array([array([  0,   1,   2,   3,   4,   5,   6,   7,   8,   9,  10,  11,  12,\n",
       "         13,  14,  15,  16,  17,  18,  19,  20,  21,  22,  23,  24,  25,\n",
       "         26,  27,  28,  29,  30,  31,  32,  33,  34,  35,  36,  37,  38,\n",
       "         39,  40,  41,  42,  43,  44,  45,  46,  47,  48,  49,  50,  51,\n",
       "         52,  53,  54,  55,  56,  57,  58,  59,  60,  61,  62,  63,  64,\n",
       "         65,  66,  67,  68,  69,  70,  71,  72,  73,  74,  75,  76,  77,\n",
       "         78,  79,  80,  81,  82,  83,  84,  85,  86,  87,  88,  89,  90,\n",
       "         91,  92,  93,  94,  95,  96,  97,  98,  99, 100, 101, 102, 103,\n",
       "        104, 105, 106, 107, 108, 109, 110, 111, 112, 113, 114, 115, 116,\n",
       "        117, 118, 119, 120, 121, 122, 123, 124, 125, 126, 127, 128, 129,\n",
       "        130, 131, 132, 133, 134, 135, 136, 137, 138, 139, 140, 141, 142,\n",
       "        143, 144, 145, 146, 147, 148, 149, 150, 151, 152, 153, 154, 155,\n",
       "        156, 157, 158, 159, 160, 161, 162, 163, 164, 165, 166, 167, 168,\n",
       "        169, 170, 171, 172, 173, 174, 175, 176, 177, 178, 179, 180, 181,\n",
       "        182, 183, 184, 185, 186, 187, 188, 189, 190, 191, 192, 193, 194,\n",
       "        195, 196, 197, 198, 199, 200, 201, 202, 203, 204, 205, 206, 207,\n",
       "        208, 209, 210, 211, 212, 213, 214, 215, 216, 217, 218, 219, 220,\n",
       "        221, 222, 223, 224, 225, 226, 227, 228, 229, 230, 231, 232, 233,\n",
       "        234, 235, 236, 237, 238, 239, 240, 241, 242, 243, 244, 245, 246,\n",
       "        247, 248, 249, 250, 251, 252, 253, 254, 255, 256, 257, 258, 259,\n",
       "        260, 261, 262, 263, 264, 265, 266, 267, 268, 269, 270, 271, 272,\n",
       "        273, 274, 275, 276, 277, 278, 279, 280, 281, 282, 283, 284, 285,\n",
       "        286, 287, 288, 289, 290, 291, 292, 293, 294, 295, 296, 297, 298,\n",
       "        299, 300, 301, 302, 303, 304, 305, 306, 307, 308, 309, 310, 311,\n",
       "        312, 313, 314, 315, 316, 317, 318, 319, 320, 321, 322, 323, 324,\n",
       "        325, 326, 327, 328, 329, 330, 331, 332, 333, 334, 335, 336, 337,\n",
       "        338, 339, 340, 341, 342, 343, 344, 345, 346, 347, 348, 349, 350,\n",
       "        351, 352, 353, 354, 355, 356, 357, 358, 359, 360, 361, 362, 363,\n",
       "        364, 365, 366, 367, 368, 369, 370, 371, 372, 373, 374, 375, 376,\n",
       "        377, 378, 379, 380, 381, 382, 383, 384, 385, 386, 387, 388, 389,\n",
       "        390, 391, 392, 393, 394, 395, 396, 397, 398, 399, 400, 401, 402,\n",
       "        403, 404, 405, 406, 407, 408, 409, 410, 411, 412, 413, 414, 415,\n",
       "        416, 417, 418, 419, 420, 421, 422, 423, 424, 425, 426, 427, 428,\n",
       "        429, 430, 431, 432, 433, 434, 435, 436, 437, 438, 439, 440, 441,\n",
       "        442, 443, 444, 445, 446, 447, 448, 449, 450, 451, 452, 453, 454,\n",
       "        455, 456, 457, 458, 459, 460, 461, 462, 463, 464, 465, 466, 467,\n",
       "        468, 469, 470, 471, 472, 473, 474, 475, 476, 477, 478, 479, 480,\n",
       "        481, 482, 483, 484, 485, 486, 487, 488, 489, 490, 491, 492, 493,\n",
       "        494, 495, 496, 497, 498, 499, 500, 501, 502, 503, 504, 505, 506,\n",
       "        507, 508, 509, 510, 511, 512, 513, 514, 515, 516, 517, 518, 519,\n",
       "        520, 521, 522, 523, 524, 525, 526, 527, 528, 529, 530, 531, 532,\n",
       "        533, 534, 535, 536, 537, 538, 539, 540, 541, 542, 543, 544, 545,\n",
       "        546, 547, 548, 549, 550, 551, 552, 553, 554, 555, 556, 557, 558,\n",
       "        559, 560, 561, 562, 563, 564, 565, 566, 567, 568, 569, 570, 571,\n",
       "        572, 573, 574, 575, 576, 577, 578, 579, 580, 581, 582, 583, 584,\n",
       "        585, 586, 587, 588, 589, 590, 591, 592, 593, 594, 595, 596, 597,\n",
       "        598, 599, 600, 601, 602, 603, 604, 605, 606, 607, 608, 609, 610,\n",
       "        611, 612, 613, 614, 615, 616, 617, 618, 619, 620, 621, 622, 623,\n",
       "        624, 625, 626, 627, 628, 629, 630, 631, 632, 633, 634, 635, 636,\n",
       "        637, 638, 639, 640, 641, 642, 643, 644, 645])], dtype=object))"
      ]
     },
     "execution_count": 207,
     "metadata": {},
     "output_type": "execute_result"
    }
   ],
   "source": [
    "nn5.radius_neighbors(matrix_input[0])"
   ]
  },
  {
   "cell_type": "code",
   "execution_count": null,
   "metadata": {},
   "outputs": [],
   "source": []
  },
  {
   "cell_type": "code",
   "execution_count": null,
   "metadata": {},
   "outputs": [],
   "source": []
  }
 ],
 "metadata": {
  "kernelspec": {
   "display_name": "Python 3",
   "language": "python",
   "name": "python3"
  },
  "language_info": {
   "codemirror_mode": {
    "name": "ipython",
    "version": 3
   },
   "file_extension": ".py",
   "mimetype": "text/x-python",
   "name": "python",
   "nbconvert_exporter": "python",
   "pygments_lexer": "ipython3",
   "version": "3.8.3"
  }
 },
 "nbformat": 4,
 "nbformat_minor": 4
}
