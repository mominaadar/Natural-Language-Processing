{
 "cells": [
  {
   "cell_type": "code",
   "execution_count": 113,
   "metadata": {},
   "outputs": [],
   "source": [
    "class Dummy:\n",
    "    dic = {}"
   ]
  },
  {
   "cell_type": "code",
   "execution_count": 114,
   "metadata": {},
   "outputs": [],
   "source": [
    "d = Dummy()"
   ]
  },
  {
   "cell_type": "code",
   "execution_count": 111,
   "metadata": {},
   "outputs": [],
   "source": [
    "def editDistance2(dic, src, dest):\n",
    "    \n",
    "\n",
    "    add = 0\n",
    "    length1 = len(src)\n",
    "    length2 = len(dest)\n",
    "\n",
    "    for i in range(min(length1, length2)):\n",
    "\n",
    "        if src[i] == dest[i]:\n",
    "            continue  #same so pass\n",
    "        else:\n",
    "            add = add + 2  #substitution\n",
    "\n",
    "    if len(src) != len(dest):\n",
    "\n",
    "        length = max(length1, length2) - min(length1, length2)\n",
    "\n",
    "        if len(dest) == max(length1, length2):\n",
    "            add = add + length\n",
    "            dic[dest] = add\n",
    "            return dic\n",
    "\n",
    "    dic[dest] = add\n",
    "    return dic\n",
    "\n",
    "    "
   ]
  },
  {
   "cell_type": "code",
   "execution_count": 105,
   "metadata": {},
   "outputs": [],
   "source": [
    "dic = editDistance2(d.dic, \"cat\", \"sats\")"
   ]
  },
  {
   "cell_type": "code",
   "execution_count": 107,
   "metadata": {},
   "outputs": [],
   "source": [
    "dic = editDistance2(d.dic, \"cat\", \"sat\")"
   ]
  },
  {
   "cell_type": "code",
   "execution_count": 109,
   "metadata": {},
   "outputs": [],
   "source": [
    "dic = editDistance2(d.dic, \"cat\", \"saturday\")"
   ]
  },
  {
   "cell_type": "code",
   "execution_count": 110,
   "metadata": {},
   "outputs": [
    {
     "name": "stdout",
     "output_type": "stream",
     "text": [
      "{'sats': 3, 'sat': 2, 'saturday': 7}\n"
     ]
    }
   ],
   "source": [
    "print(d.dic)"
   ]
  },
  {
   "cell_type": "code",
   "execution_count": null,
   "metadata": {},
   "outputs": [],
   "source": []
  },
  {
   "cell_type": "code",
   "execution_count": 91,
   "metadata": {},
   "outputs": [],
   "source": [
    "lst = ['sat','sats','saturday','hat','nope']"
   ]
  },
  {
   "cell_type": "code",
   "execution_count": 115,
   "metadata": {},
   "outputs": [],
   "source": [
    "def editDistance(lst, dic, src):\n",
    "    \n",
    "    for word in lst:\n",
    "\n",
    "        add = 0\n",
    "        s_len = len(src)\n",
    "        w_len = len(word)\n",
    "\n",
    "        for i in range(min(s_len, w_len)):\n",
    "\n",
    "            if src[i] == word[i]:\n",
    "                continue  #same/equal so pass\n",
    "            else:\n",
    "                add = add + 2  #substitution\n",
    "\n",
    "        if len(src) != len(word):\n",
    "            \n",
    "            if s_len < w_len:\n",
    "\n",
    "                length = w_len - s_len  #insertion if target is longer\n",
    "\n",
    "                add = add + length\n",
    "                dic[word] = add\n",
    "                \n",
    "            if s_len > w_len:\n",
    "                length = s_len - w_len  #deletion if source is longer\n",
    "                \n",
    "                add = add + length\n",
    "                dic[word] = add\n",
    "\n",
    "        dic[word] = add\n",
    "            \n",
    "    return dic"
   ]
  },
  {
   "cell_type": "code",
   "execution_count": 116,
   "metadata": {},
   "outputs": [
    {
     "data": {
      "text/plain": [
       "{'sat': 8, 'sats': 9, 'saturday': 13, 'hat': 6, 'nope': 9}"
      ]
     },
     "execution_count": 116,
     "metadata": {},
     "output_type": "execute_result"
    }
   ],
   "source": [
    "editDistance(lst, d.dic, \"hello\")"
   ]
  },
  {
   "cell_type": "code",
   "execution_count": 147,
   "metadata": {},
   "outputs": [],
   "source": [
    "def min_editDistance(lst, dic, src):\n",
    "    \n",
    "    for word in lst:\n",
    "\n",
    "        add = 0\n",
    "        s_len = len(src)\n",
    "        w_len = len(word)\n",
    "\n",
    "        for i in range(min(s_len, w_len)):\n",
    "\n",
    "            if src[i] == word[i]:\n",
    "                continue  #same/equal so pass\n",
    "            else:\n",
    "                add = add + 2  #substitution\n",
    "\n",
    "        if len(src) != len(word):\n",
    "            \n",
    "            if s_len < w_len:\n",
    "\n",
    "                length = w_len - s_len  #insertion if target is longer\n",
    "\n",
    "                add = add + length\n",
    "                dic[word] = add\n",
    "                \n",
    "            if s_len > w_len:\n",
    "                length = s_len - w_len  #deletion if source is longer\n",
    "                \n",
    "                add = add + length\n",
    "                dic[word] = add\n",
    "\n",
    "        dic[word] = add\n",
    "            \n",
    "            \n",
    "        #first sorting dictionary and then treating is as list and returning first 3 elements\n",
    "        \n",
    "    return list(dict(sorted(dic.items(), key=lambda item: item[1])))[:3]\n",
    "    \n",
    "    "
   ]
  },
  {
   "cell_type": "code",
   "execution_count": 148,
   "metadata": {},
   "outputs": [],
   "source": [
    "class Dummy:\n",
    "    dic = {}\n",
    "\n",
    "d = Dummy()"
   ]
  },
  {
   "cell_type": "code",
   "execution_count": 149,
   "metadata": {},
   "outputs": [],
   "source": [
    "lst = ['John','Mary','Magdalene','Wick','Nazareth','Smithsonian','Kierra','Henry','Brandon','Aiden','Cierra','Mcgonagall','Harry','Filch','Minerva','Dumbledore','Snape','Voldemort']"
   ]
  },
  {
   "cell_type": "code",
   "execution_count": 150,
   "metadata": {},
   "outputs": [
    {
     "data": {
      "text/plain": [
       "['John', 'Aiden', 'Mary']"
      ]
     },
     "execution_count": 150,
     "metadata": {},
     "output_type": "execute_result"
    }
   ],
   "source": [
    "min_editDistance(lst, d.dic, \"momina\")"
   ]
  },
  {
   "cell_type": "code",
   "execution_count": 143,
   "metadata": {},
   "outputs": [
    {
     "data": {
      "text/plain": [
       "{'sat': 8, 'sats': 9, 'saturday': 13, 'hat': 6, 'nope': 9}"
      ]
     },
     "execution_count": 143,
     "metadata": {},
     "output_type": "execute_result"
    }
   ],
   "source": [
    "d.dic"
   ]
  },
  {
   "cell_type": "code",
   "execution_count": null,
   "metadata": {},
   "outputs": [],
   "source": []
  }
 ],
 "metadata": {
  "kernelspec": {
   "display_name": "Python 3",
   "language": "python",
   "name": "python3"
  },
  "language_info": {
   "codemirror_mode": {
    "name": "ipython",
    "version": 3
   },
   "file_extension": ".py",
   "mimetype": "text/x-python",
   "name": "python",
   "nbconvert_exporter": "python",
   "pygments_lexer": "ipython3",
   "version": "3.8.3"
  }
 },
 "nbformat": 4,
 "nbformat_minor": 4
}
