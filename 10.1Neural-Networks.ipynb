{
  "nbformat": 4,
  "nbformat_minor": 0,
  "metadata": {
    "colab": {
      "name": "10Neural-Networks.ipynb",
      "provenance": [],
      "collapsed_sections": []
    },
    "kernelspec": {
      "name": "python3",
      "display_name": "Python 3"
    },
    "language_info": {
      "name": "python"
    }
  },
  "cells": [
    {
      "cell_type": "markdown",
      "metadata": {
        "id": "uL9rpkr-FTtX"
      },
      "source": [
        "### 10.2.1 Implementation of NN"
      ]
    },
    {
      "cell_type": "code",
      "metadata": {
        "id": "qOFeP18u9Qrg"
      },
      "source": [
        "from tensorflow.keras.models import Sequential\n",
        "from tensorflow.keras.layers import Dense"
      ],
      "execution_count": 1,
      "outputs": []
    },
    {
      "cell_type": "code",
      "metadata": {
        "id": "B-IXsHkwCZGs"
      },
      "source": [
        "model = Sequential()\n",
        "\n",
        "# pass no. of nodes that we want on this layer, activattion function\n",
        "# all the inputs received by each 10 nodes will be multiplied with their weights and summed up. Then passed as input to sigmoid function.\n",
        "# sigmoid function will give result b/w 0 and 1\n",
        "# type of input is defined in 1st hidden layer of model\n",
        "# output of input_style (input) is sent to hidden layer as input\n",
        "# output of hidden layer goes to output layer as input\n",
        "# output of output layer is final output of model\n",
        "layer1 = Dense(10, activation='sigmoid', input_shape=(3,))   # hidden layer\n",
        "layer2 = Dense(1, activation='sigmoid')    # output layer\n",
        "\n",
        "# add layers to model\n",
        "model.add(layer1)\n",
        "model.add(layer2) "
      ],
      "execution_count": 2,
      "outputs": []
    },
    {
      "cell_type": "code",
      "metadata": {
        "colab": {
          "base_uri": "https://localhost:8080/"
        },
        "id": "rq_OjWePCrLH",
        "outputId": "454bc4c7-9d7b-4d74-c289-9f0ff6920cfa"
      },
      "source": [
        "# Param are thetas\n",
        "model.summary()"
      ],
      "execution_count": 3,
      "outputs": [
        {
          "output_type": "stream",
          "text": [
            "Model: \"sequential\"\n",
            "_________________________________________________________________\n",
            "Layer (type)                 Output Shape              Param #   \n",
            "=================================================================\n",
            "dense (Dense)                (None, 10)                40        \n",
            "_________________________________________________________________\n",
            "dense_1 (Dense)              (None, 1)                 11        \n",
            "=================================================================\n",
            "Total params: 51\n",
            "Trainable params: 51\n",
            "Non-trainable params: 0\n",
            "_________________________________________________________________\n"
          ],
          "name": "stdout"
        }
      ]
    },
    {
      "cell_type": "markdown",
      "metadata": {
        "id": "cFy2BYqDE6S7"
      },
      "source": [
        "### 10.2.2 Input Shape and Model Training\n",
        "\n"
      ]
    },
    {
      "cell_type": "code",
      "metadata": {
        "id": "SPQo34v2CKwA"
      },
      "source": [
        "import numpy as np"
      ],
      "execution_count": 4,
      "outputs": []
    },
    {
      "cell_type": "code",
      "metadata": {
        "id": "mLXVj2mbE5QN"
      },
      "source": [
        "# dummy dataset\n",
        "# 3 features per doc\n",
        "input = np.array([ [3,3,1], [4,3,1], [3,1,2], [2,3,1] ])\n",
        "\n",
        "# labels for each instance of input respectively\n",
        "output = np.array([0,0,1,1])\n"
      ],
      "execution_count": 5,
      "outputs": []
    },
    {
      "cell_type": "code",
      "metadata": {
        "colab": {
          "base_uri": "https://localhost:8080/"
        },
        "id": "k1dMqDUlCD7C",
        "outputId": "e7ca895d-3f9f-4e11-d8d7-68f09f341997"
      },
      "source": [
        "print(input.shape)\n",
        "print(output.shape)"
      ],
      "execution_count": 6,
      "outputs": [
        {
          "output_type": "stream",
          "text": [
            "(4, 3)\n",
            "(4,)\n"
          ],
          "name": "stdout"
        }
      ]
    },
    {
      "cell_type": "code",
      "metadata": {
        "id": "JGOEZTsGEU8Y"
      },
      "source": [
        "model = Sequential()\n",
        "\n",
        "# we left the space after comma in input_shape indicates each of these 3 features in a doc is a scalar value\n",
        "# input_shape(3,) indicates that each instance has 3 elements like [3,3,1]\n",
        "# if we have 3 lists as elements in each instance like [ [ [2,1], [2,2], [2,3] ] ] then input_shape=(3,2,)\n",
        "layer1 = Dense(10, activation='sigmoid', input_shape=(3,))   # hidden layer\n",
        "layer2 = Dense(1,  activation='sigmoid')    # output layer\n",
        "\n",
        "model.add(layer1)\n",
        "model.add(layer2) "
      ],
      "execution_count": 7,
      "outputs": []
    },
    {
      "cell_type": "code",
      "metadata": {
        "colab": {
          "base_uri": "https://localhost:8080/"
        },
        "id": "OcNNw3ME4aev",
        "outputId": "fa41479d-23f5-451b-9ba4-9ae62bc44a5e"
      },
      "source": [
        "model.summary()"
      ],
      "execution_count": 8,
      "outputs": [
        {
          "output_type": "stream",
          "text": [
            "Model: \"sequential_1\"\n",
            "_________________________________________________________________\n",
            "Layer (type)                 Output Shape              Param #   \n",
            "=================================================================\n",
            "dense_2 (Dense)              (None, 10)                40        \n",
            "_________________________________________________________________\n",
            "dense_3 (Dense)              (None, 1)                 11        \n",
            "=================================================================\n",
            "Total params: 51\n",
            "Trainable params: 51\n",
            "Non-trainable params: 0\n",
            "_________________________________________________________________\n"
          ],
          "name": "stdout"
        }
      ]
    },
    {
      "cell_type": "code",
      "metadata": {
        "id": "vJmYTHNEQVov"
      },
      "source": [
        "model.compile(loss='binary_crossentropy', optimizer='sgd', metrics=['accuracy'])"
      ],
      "execution_count": 9,
      "outputs": []
    },
    {
      "cell_type": "code",
      "metadata": {
        "colab": {
          "base_uri": "https://localhost:8080/"
        },
        "id": "-nEcVvSFQjOQ",
        "outputId": "e79e4879-4a7c-4a99-bac4-9b05ef858745"
      },
      "source": [
        "# epochs : no. of times model will run through all the instances\n",
        "model.fit(input[:-2], output[:-2], epochs=3, batch_size=2, validation_data=(input[-2:], output[-2:]))"
      ],
      "execution_count": 10,
      "outputs": [
        {
          "output_type": "stream",
          "text": [
            "Epoch 1/3\n",
            "1/1 [==============================] - 1s 689ms/step - loss: 0.4607 - accuracy: 1.0000 - val_loss: 1.0076 - val_accuracy: 0.0000e+00\n",
            "Epoch 2/3\n",
            "1/1 [==============================] - 0s 19ms/step - loss: 0.4530 - accuracy: 1.0000 - val_loss: 1.0204 - val_accuracy: 0.0000e+00\n",
            "Epoch 3/3\n",
            "1/1 [==============================] - 0s 20ms/step - loss: 0.4454 - accuracy: 1.0000 - val_loss: 1.0331 - val_accuracy: 0.0000e+00\n"
          ],
          "name": "stdout"
        },
        {
          "output_type": "execute_result",
          "data": {
            "text/plain": [
              "<tensorflow.python.keras.callbacks.History at 0x7fed96b4ed90>"
            ]
          },
          "metadata": {
            "tags": []
          },
          "execution_count": 10
        }
      ]
    },
    {
      "cell_type": "markdown",
      "metadata": {
        "id": "dKerUwz1SAzl"
      },
      "source": [
        "### 10.2.3 Results and Evaluation"
      ]
    },
    {
      "cell_type": "code",
      "metadata": {
        "id": "luuPfQziSDt-"
      },
      "source": [
        "# dummy dataset\n",
        "input = np.random.rand(10000,3)\n",
        "\n",
        "# labels for each instance of input respectively\n",
        "output = np.random.randint(2, size=10000)\n"
      ],
      "execution_count": 11,
      "outputs": []
    },
    {
      "cell_type": "code",
      "metadata": {
        "colab": {
          "base_uri": "https://localhost:8080/"
        },
        "id": "XOpdYiGEP84v",
        "outputId": "036786d9-6613-4b96-c2bd-1859bb461346"
      },
      "source": [
        "print(input.shape)\n",
        "print(input)\n",
        "print(output.shape)\n",
        "print(output)"
      ],
      "execution_count": 12,
      "outputs": [
        {
          "output_type": "stream",
          "text": [
            "(10000, 3)\n",
            "[[0.95882298 0.06212022 0.03331903]\n",
            " [0.40967365 0.38593234 0.45903353]\n",
            " [0.51792265 0.90670337 0.26367775]\n",
            " ...\n",
            " [0.64835801 0.44983931 0.80559031]\n",
            " [0.94279767 0.39945231 0.91236352]\n",
            " [0.35095047 0.70623763 0.98656509]]\n",
            "(10000,)\n",
            "[1 0 1 ... 0 1 1]\n"
          ],
          "name": "stdout"
        }
      ]
    },
    {
      "cell_type": "code",
      "metadata": {
        "colab": {
          "base_uri": "https://localhost:8080/"
        },
        "id": "WwfuQibfP_-W",
        "outputId": "f832b4eb-2566-4370-9c4d-dd1ef1f61d95"
      },
      "source": [
        "model.fit(input[:-2000], output[:-2000], epochs=3, batch_size=64, validation_data=(input[-2000:], output[-2000:]))"
      ],
      "execution_count": 13,
      "outputs": [
        {
          "output_type": "stream",
          "text": [
            "Epoch 1/3\n",
            "125/125 [==============================] - 0s 2ms/step - loss: 0.7153 - accuracy: 0.4964 - val_loss: 0.6983 - val_accuracy: 0.4995\n",
            "Epoch 2/3\n",
            "125/125 [==============================] - 0s 2ms/step - loss: 0.6955 - accuracy: 0.4967 - val_loss: 0.6938 - val_accuracy: 0.4855\n",
            "Epoch 3/3\n",
            "125/125 [==============================] - 0s 2ms/step - loss: 0.6937 - accuracy: 0.4911 - val_loss: 0.6936 - val_accuracy: 0.4915\n"
          ],
          "name": "stdout"
        },
        {
          "output_type": "execute_result",
          "data": {
            "text/plain": [
              "<tensorflow.python.keras.callbacks.History at 0x7fed8984d050>"
            ]
          },
          "metadata": {
            "tags": []
          },
          "execution_count": 13
        }
      ]
    },
    {
      "cell_type": "code",
      "metadata": {
        "colab": {
          "base_uri": "https://localhost:8080/"
        },
        "id": "U9oFAkaSQPW7",
        "outputId": "5ad998b3-c0b2-4c4f-f653-169b5e7d9f58"
      },
      "source": [
        "model.evaluate(input[-2000:], output[-2000:])"
      ],
      "execution_count": 14,
      "outputs": [
        {
          "output_type": "stream",
          "text": [
            "63/63 [==============================] - 0s 1ms/step - loss: 0.6936 - accuracy: 0.4915\n"
          ],
          "name": "stdout"
        },
        {
          "output_type": "execute_result",
          "data": {
            "text/plain": [
              "[0.6935609579086304, 0.49149999022483826]"
            ]
          },
          "metadata": {
            "tags": []
          },
          "execution_count": 14
        }
      ]
    },
    {
      "cell_type": "code",
      "metadata": {
        "colab": {
          "base_uri": "https://localhost:8080/"
        },
        "id": "lpivprFmQQ9X",
        "outputId": "84c53c10-4788-4802-ea7d-72ec8c0db46a"
      },
      "source": [
        "model.predict(input[-10:-5])"
      ],
      "execution_count": 15,
      "outputs": [
        {
          "output_type": "execute_result",
          "data": {
            "text/plain": [
              "array([[0.5072124 ],\n",
              "       [0.506822  ],\n",
              "       [0.5114924 ],\n",
              "       [0.48954397],\n",
              "       [0.49920666]], dtype=float32)"
            ]
          },
          "metadata": {
            "tags": []
          },
          "execution_count": 15
        }
      ]
    },
    {
      "cell_type": "code",
      "metadata": {
        "colab": {
          "base_uri": "https://localhost:8080/"
        },
        "id": "hYSve76JR9Zm",
        "outputId": "9dcbb7d8-4579-47d1-9718-8e0a2708f6cb"
      },
      "source": [
        "# 0 for < 0.5, 1 for > 0.5\n",
        "model.predict_classes(input[-10:-5])"
      ],
      "execution_count": 16,
      "outputs": [
        {
          "output_type": "stream",
          "text": [
            "/usr/local/lib/python3.7/dist-packages/tensorflow/python/keras/engine/sequential.py:455: UserWarning: `model.predict_classes()` is deprecated and will be removed after 2021-01-01. Please use instead:* `np.argmax(model.predict(x), axis=-1)`,   if your model does multi-class classification   (e.g. if it uses a `softmax` last-layer activation).* `(model.predict(x) > 0.5).astype(\"int32\")`,   if your model does binary classification   (e.g. if it uses a `sigmoid` last-layer activation).\n",
            "  warnings.warn('`model.predict_classes()` is deprecated and '\n"
          ],
          "name": "stderr"
        },
        {
          "output_type": "execute_result",
          "data": {
            "text/plain": [
              "array([[1],\n",
              "       [1],\n",
              "       [1],\n",
              "       [0],\n",
              "       [0]], dtype=int32)"
            ]
          },
          "metadata": {
            "tags": []
          },
          "execution_count": 16
        }
      ]
    },
    {
      "cell_type": "code",
      "metadata": {
        "colab": {
          "base_uri": "https://localhost:8080/"
        },
        "id": "CLsPsGsTgHpa",
        "outputId": "eeee0b68-a685-4e86-a1b3-1c9de2e75b5a"
      },
      "source": [
        "pred_labels = model.predict_classes(input[-5:])\n",
        "labels = output[-5:]\n",
        "\n",
        "print(pred_labels)\n",
        "print(labels)"
      ],
      "execution_count": 17,
      "outputs": [
        {
          "output_type": "stream",
          "text": [
            "[[1]\n",
            " [0]\n",
            " [1]\n",
            " [1]\n",
            " [1]]\n",
            "[1 1 0 1 1]\n"
          ],
          "name": "stdout"
        },
        {
          "output_type": "stream",
          "text": [
            "/usr/local/lib/python3.7/dist-packages/tensorflow/python/keras/engine/sequential.py:455: UserWarning: `model.predict_classes()` is deprecated and will be removed after 2021-01-01. Please use instead:* `np.argmax(model.predict(x), axis=-1)`,   if your model does multi-class classification   (e.g. if it uses a `softmax` last-layer activation).* `(model.predict(x) > 0.5).astype(\"int32\")`,   if your model does binary classification   (e.g. if it uses a `sigmoid` last-layer activation).\n",
            "  warnings.warn('`model.predict_classes()` is deprecated and '\n"
          ],
          "name": "stderr"
        }
      ]
    },
    {
      "cell_type": "code",
      "metadata": {
        "id": "leUb_qByfTZg"
      },
      "source": [
        "from sklearn.metrics import precision_score, recall_score, f1_score"
      ],
      "execution_count": 18,
      "outputs": []
    },
    {
      "cell_type": "code",
      "metadata": {
        "colab": {
          "base_uri": "https://localhost:8080/"
        },
        "id": "AWja4L00f5fv",
        "outputId": "826e4736-e628-4c95-9317-4a9583b9311c"
      },
      "source": [
        "precision_score(pred_labels, labels, average='micro')"
      ],
      "execution_count": 19,
      "outputs": [
        {
          "output_type": "execute_result",
          "data": {
            "text/plain": [
              "0.6"
            ]
          },
          "metadata": {
            "tags": []
          },
          "execution_count": 19
        }
      ]
    },
    {
      "cell_type": "code",
      "metadata": {
        "colab": {
          "base_uri": "https://localhost:8080/"
        },
        "id": "VTv_Xvudgbtx",
        "outputId": "364d8bbc-eff2-4555-a1ca-da11da93829f"
      },
      "source": [
        "recall_score(pred_labels, labels, average='micro')"
      ],
      "execution_count": 20,
      "outputs": [
        {
          "output_type": "execute_result",
          "data": {
            "text/plain": [
              "0.6"
            ]
          },
          "metadata": {
            "tags": []
          },
          "execution_count": 20
        }
      ]
    },
    {
      "cell_type": "code",
      "metadata": {
        "colab": {
          "base_uri": "https://localhost:8080/"
        },
        "id": "TOHNrUo4gfIY",
        "outputId": "dca4f46c-2ee9-4480-c5c4-c7499b98b019"
      },
      "source": [
        "f1_score(pred_labels, labels, average='micro')"
      ],
      "execution_count": 21,
      "outputs": [
        {
          "output_type": "execute_result",
          "data": {
            "text/plain": [
              "0.6"
            ]
          },
          "metadata": {
            "tags": []
          },
          "execution_count": 21
        }
      ]
    },
    {
      "cell_type": "markdown",
      "metadata": {
        "id": "Fcn2yltVhZ_c"
      },
      "source": [
        "### 10.2.4 Using NN with IMDB reviews"
      ]
    },
    {
      "cell_type": "code",
      "metadata": {
        "id": "1zNg8qDVhgOQ"
      },
      "source": [
        "import pandas as pd\n",
        "corpus = pd.read_csv('sample_data/IMDB-Dataset.csv')"
      ],
      "execution_count": 26,
      "outputs": []
    },
    {
      "cell_type": "code",
      "metadata": {
        "colab": {
          "base_uri": "https://localhost:8080/",
          "height": 424
        },
        "id": "hJfhr2aOMb4E",
        "outputId": "6ec1c66a-07b9-42fe-8287-584c8fa680fd"
      },
      "source": [
        "corpus"
      ],
      "execution_count": 27,
      "outputs": [
        {
          "output_type": "execute_result",
          "data": {
            "text/html": [
              "<div>\n",
              "<style scoped>\n",
              "    .dataframe tbody tr th:only-of-type {\n",
              "        vertical-align: middle;\n",
              "    }\n",
              "\n",
              "    .dataframe tbody tr th {\n",
              "        vertical-align: top;\n",
              "    }\n",
              "\n",
              "    .dataframe thead th {\n",
              "        text-align: right;\n",
              "    }\n",
              "</style>\n",
              "<table border=\"1\" class=\"dataframe\">\n",
              "  <thead>\n",
              "    <tr style=\"text-align: right;\">\n",
              "      <th></th>\n",
              "      <th>review</th>\n",
              "      <th>sentiment</th>\n",
              "    </tr>\n",
              "  </thead>\n",
              "  <tbody>\n",
              "    <tr>\n",
              "      <th>0</th>\n",
              "      <td>One of the other reviewers has mentioned that ...</td>\n",
              "      <td>positive</td>\n",
              "    </tr>\n",
              "    <tr>\n",
              "      <th>1</th>\n",
              "      <td>A wonderful little production. &lt;br /&gt;&lt;br /&gt;The...</td>\n",
              "      <td>positive</td>\n",
              "    </tr>\n",
              "    <tr>\n",
              "      <th>2</th>\n",
              "      <td>I thought this was a wonderful way to spend ti...</td>\n",
              "      <td>positive</td>\n",
              "    </tr>\n",
              "    <tr>\n",
              "      <th>3</th>\n",
              "      <td>Basically there's a family where a little boy ...</td>\n",
              "      <td>negative</td>\n",
              "    </tr>\n",
              "    <tr>\n",
              "      <th>4</th>\n",
              "      <td>Petter Mattei's \"Love in the Time of Money\" is...</td>\n",
              "      <td>positive</td>\n",
              "    </tr>\n",
              "    <tr>\n",
              "      <th>...</th>\n",
              "      <td>...</td>\n",
              "      <td>...</td>\n",
              "    </tr>\n",
              "    <tr>\n",
              "      <th>49995</th>\n",
              "      <td>I thought this movie did a down right good job...</td>\n",
              "      <td>positive</td>\n",
              "    </tr>\n",
              "    <tr>\n",
              "      <th>49996</th>\n",
              "      <td>Bad plot, bad dialogue, bad acting, idiotic di...</td>\n",
              "      <td>negative</td>\n",
              "    </tr>\n",
              "    <tr>\n",
              "      <th>49997</th>\n",
              "      <td>I am a Catholic taught in parochial elementary...</td>\n",
              "      <td>negative</td>\n",
              "    </tr>\n",
              "    <tr>\n",
              "      <th>49998</th>\n",
              "      <td>I'm going to have to disagree with the previou...</td>\n",
              "      <td>negative</td>\n",
              "    </tr>\n",
              "    <tr>\n",
              "      <th>49999</th>\n",
              "      <td>No one expects the Star Trek movies to be high...</td>\n",
              "      <td>negative</td>\n",
              "    </tr>\n",
              "  </tbody>\n",
              "</table>\n",
              "<p>50000 rows × 2 columns</p>\n",
              "</div>"
            ],
            "text/plain": [
              "                                                  review sentiment\n",
              "0      One of the other reviewers has mentioned that ...  positive\n",
              "1      A wonderful little production. <br /><br />The...  positive\n",
              "2      I thought this was a wonderful way to spend ti...  positive\n",
              "3      Basically there's a family where a little boy ...  negative\n",
              "4      Petter Mattei's \"Love in the Time of Money\" is...  positive\n",
              "...                                                  ...       ...\n",
              "49995  I thought this movie did a down right good job...  positive\n",
              "49996  Bad plot, bad dialogue, bad acting, idiotic di...  negative\n",
              "49997  I am a Catholic taught in parochial elementary...  negative\n",
              "49998  I'm going to have to disagree with the previou...  negative\n",
              "49999  No one expects the Star Trek movies to be high...  negative\n",
              "\n",
              "[50000 rows x 2 columns]"
            ]
          },
          "metadata": {
            "tags": []
          },
          "execution_count": 27
        }
      ]
    },
    {
      "cell_type": "code",
      "metadata": {
        "id": "4nAfrNpVRSiM"
      },
      "source": [
        "reviews = corpus.iloc[:,0]\n",
        "senti = corpus.iloc[:,1]\n",
        "# print(reviews)\n",
        "# print(senti)"
      ],
      "execution_count": 28,
      "outputs": []
    },
    {
      "cell_type": "code",
      "metadata": {
        "id": "GygtNmVBSOlF"
      },
      "source": [
        "from sklearn.feature_extraction.text import TfidfVectorizer\n",
        "\n",
        "# NN works on numbers so convert reviews to numbers\n",
        "\n",
        "tfidf = TfidfVectorizer(max_features = 200)\n",
        "matrix_x = tfidf.fit_transform(reviews)\n",
        "# print(matrix_x.toarray())\n",
        "\n",
        "\n",
        "# convert sentiments to numbers but only 0 or 1\n",
        "\n",
        "binary_senti = [0 if i=='negative' else 1 for i in senti]\n",
        "# print(binary_senti)"
      ],
      "execution_count": 46,
      "outputs": []
    },
    {
      "cell_type": "code",
      "metadata": {
        "id": "55YHXB-UVYIc"
      },
      "source": [
        "from sklearn.model_selection import train_test_split\n",
        "\n",
        "train_reviews, test_reviews, train_senti, test_senti = train_test_split(matrix_x, binary_senti, shuffle=True, train_size = 0.8)"
      ],
      "execution_count": 65,
      "outputs": []
    },
    {
      "cell_type": "code",
      "metadata": {
        "colab": {
          "base_uri": "https://localhost:8080/"
        },
        "id": "8oTO3Q3-iY-t",
        "outputId": "6cdf6a97-e7b0-4c55-879a-fd76316d5516"
      },
      "source": [
        "train_reviews, test_reviews\n",
        "# train_senti, test_senti"
      ],
      "execution_count": 54,
      "outputs": [
        {
          "output_type": "execute_result",
          "data": {
            "text/plain": [
              "(<40000x200 sparse matrix of type '<class 'numpy.float64'>'\n",
              " \twith 2241929 stored elements in Compressed Sparse Row format>,\n",
              " <10000x200 sparse matrix of type '<class 'numpy.float64'>'\n",
              " \twith 562626 stored elements in Compressed Sparse Row format>)"
            ]
          },
          "metadata": {
            "tags": []
          },
          "execution_count": 54
        }
      ]
    },
    {
      "cell_type": "code",
      "metadata": {
        "id": "m3idPTg4Rkll"
      },
      "source": [
        "from tensorflow.keras.models import Sequential\n",
        "from tensorflow.keras.layers import Dense"
      ],
      "execution_count": 55,
      "outputs": []
    },
    {
      "cell_type": "code",
      "metadata": {
        "id": "lvAJn3QLRlPj"
      },
      "source": [
        "model = Sequential()\n",
        "\n",
        "# 200 features with scalar values\n",
        "layer1 = Dense(10, activation='sigmoid', input_shape=(200,))   # hidden layer\n",
        "layer2 = Dense(1,  activation='sigmoid')    # output layer\n",
        "\n",
        "model.add(layer1)\n",
        "model.add(layer2) "
      ],
      "execution_count": 56,
      "outputs": []
    },
    {
      "cell_type": "code",
      "metadata": {
        "colab": {
          "base_uri": "https://localhost:8080/"
        },
        "id": "WN2oDa5IRrkw",
        "outputId": "2303e01d-6650-4586-97e6-e43960e62cf9"
      },
      "source": [
        "model.summary()"
      ],
      "execution_count": 57,
      "outputs": [
        {
          "output_type": "stream",
          "text": [
            "Model: \"sequential_3\"\n",
            "_________________________________________________________________\n",
            "Layer (type)                 Output Shape              Param #   \n",
            "=================================================================\n",
            "dense_6 (Dense)              (None, 10)                2010      \n",
            "_________________________________________________________________\n",
            "dense_7 (Dense)              (None, 1)                 11        \n",
            "=================================================================\n",
            "Total params: 2,021\n",
            "Trainable params: 2,021\n",
            "Non-trainable params: 0\n",
            "_________________________________________________________________\n"
          ],
          "name": "stdout"
        }
      ]
    },
    {
      "cell_type": "code",
      "metadata": {
        "id": "xmgzfxE0javX"
      },
      "source": [
        "model.compile(loss='binary_crossentropy', optimizer='sgd', metrics=['accuracy'])"
      ],
      "execution_count": 58,
      "outputs": []
    },
    {
      "cell_type": "code",
      "metadata": {
        "id": "_W8PDW1KnPot"
      },
      "source": [
        "train_reviews = train_reviews.toarray()\n",
        "test_reviews = test_reviews.toarray()"
      ],
      "execution_count": 66,
      "outputs": []
    },
    {
      "cell_type": "code",
      "metadata": {
        "colab": {
          "base_uri": "https://localhost:8080/"
        },
        "id": "CztN9Ha2jhnt",
        "outputId": "c154b173-2f7a-4ac4-d827-69a67e0448dc"
      },
      "source": [
        "train_reviews = np.array(train_reviews)\n",
        "train_senti = np.array(train_senti)\n",
        "test_reviews = np.array(test_reviews)\n",
        "test_senti = np.array(test_senti)\n",
        "\n",
        "model.fit(train_reviews, train_senti, epochs = 3, batch_size = 64, validation_data=(test_reviews, test_senti))\n"
      ],
      "execution_count": 68,
      "outputs": [
        {
          "output_type": "stream",
          "text": [
            "Epoch 1/3\n",
            "625/625 [==============================] - 1s 1ms/step - loss: 0.6935 - accuracy: 0.4965 - val_loss: 0.6932 - val_accuracy: 0.5000\n",
            "Epoch 2/3\n",
            "625/625 [==============================] - 1s 1ms/step - loss: 0.6930 - accuracy: 0.5103 - val_loss: 0.6925 - val_accuracy: 0.5175\n",
            "Epoch 3/3\n",
            "625/625 [==============================] - 1s 983us/step - loss: 0.6925 - accuracy: 0.5210 - val_loss: 0.6920 - val_accuracy: 0.5402\n"
          ],
          "name": "stdout"
        },
        {
          "output_type": "execute_result",
          "data": {
            "text/plain": [
              "<tensorflow.python.keras.callbacks.History at 0x7fed7c0a3f50>"
            ]
          },
          "metadata": {
            "tags": []
          },
          "execution_count": 68
        }
      ]
    },
    {
      "cell_type": "code",
      "metadata": {
        "colab": {
          "base_uri": "https://localhost:8080/"
        },
        "id": "_fcRK058mxvo",
        "outputId": "f3f371cd-225a-45b9-9469-81ef48a9bdb1"
      },
      "source": [
        "model.evaluate(test_reviews, test_senti)"
      ],
      "execution_count": 70,
      "outputs": [
        {
          "output_type": "stream",
          "text": [
            "313/313 [==============================] - 0s 732us/step - loss: 0.6920 - accuracy: 0.5402\n"
          ],
          "name": "stdout"
        },
        {
          "output_type": "execute_result",
          "data": {
            "text/plain": [
              "[0.6920229196548462, 0.5401999950408936]"
            ]
          },
          "metadata": {
            "tags": []
          },
          "execution_count": 70
        }
      ]
    },
    {
      "cell_type": "code",
      "metadata": {
        "colab": {
          "base_uri": "https://localhost:8080/"
        },
        "id": "sD6OZJPvoR18",
        "outputId": "1e8cb127-edb9-4a0c-83a6-65f2519f74bb"
      },
      "source": [
        "model.predict(test_reviews[:10])"
      ],
      "execution_count": 77,
      "outputs": [
        {
          "output_type": "execute_result",
          "data": {
            "text/plain": [
              "array([[0.49482495],\n",
              "       [0.4959836 ],\n",
              "       [0.49000397],\n",
              "       [0.49463907],\n",
              "       [0.49491575],\n",
              "       [0.4981155 ],\n",
              "       [0.49685615],\n",
              "       [0.5042055 ],\n",
              "       [0.50766855],\n",
              "       [0.49871626]], dtype=float32)"
            ]
          },
          "metadata": {
            "tags": []
          },
          "execution_count": 77
        }
      ]
    },
    {
      "cell_type": "code",
      "metadata": {
        "colab": {
          "base_uri": "https://localhost:8080/"
        },
        "id": "v5FdQon3ofUx",
        "outputId": "d02553bb-ab91-4f1e-8051-167c0de672b0"
      },
      "source": [
        "pred_senti = model.predict_classes(test_reviews[:10])\n",
        "pred_senti = test_senti[:10]\n",
        "print(pred_reviews, pred_senti)"
      ],
      "execution_count": 91,
      "outputs": [
        {
          "output_type": "stream",
          "text": [
            "[[0]\n",
            " [0]\n",
            " [0]\n",
            " [0]\n",
            " [0]\n",
            " [0]\n",
            " [0]\n",
            " [1]\n",
            " [1]\n",
            " [0]] [0 0 1 1 1 1 0 1 1 0]\n"
          ],
          "name": "stdout"
        },
        {
          "output_type": "stream",
          "text": [
            "/usr/local/lib/python3.7/dist-packages/tensorflow/python/keras/engine/sequential.py:455: UserWarning: `model.predict_classes()` is deprecated and will be removed after 2021-01-01. Please use instead:* `np.argmax(model.predict(x), axis=-1)`,   if your model does multi-class classification   (e.g. if it uses a `softmax` last-layer activation).* `(model.predict(x) > 0.5).astype(\"int32\")`,   if your model does binary classification   (e.g. if it uses a `sigmoid` last-layer activation).\n",
            "  warnings.warn('`model.predict_classes()` is deprecated and '\n"
          ],
          "name": "stderr"
        }
      ]
    },
    {
      "cell_type": "code",
      "metadata": {
        "id": "fZph9D07ohSt"
      },
      "source": [
        "from sklearn.metrics import precision_score, recall_score, f1_score"
      ],
      "execution_count": 92,
      "outputs": []
    },
    {
      "cell_type": "code",
      "metadata": {
        "colab": {
          "base_uri": "https://localhost:8080/"
        },
        "id": "kfM0c1ehpNFs",
        "outputId": "023e9bb0-b47e-42af-c4fa-d179d5550fe0"
      },
      "source": [
        "pred_senti = model.predict_classes(test_reviews)\n",
        "\n",
        "# macro: calc scores for each label separately and then avg of all score\n",
        "# micro: combine at instance level\n",
        "# if equal no. of -ve and +ve labels then use macro otherwise micro\n",
        "prec = precision_score(pred_senti, test_senti, average='micro')\n",
        "rec = recall_score(pred_senti, test_senti, average='micro')\n",
        "f1 = f1_score(pred_senti, test_senti, average='micro')"
      ],
      "execution_count": 93,
      "outputs": [
        {
          "output_type": "stream",
          "text": [
            "/usr/local/lib/python3.7/dist-packages/tensorflow/python/keras/engine/sequential.py:455: UserWarning: `model.predict_classes()` is deprecated and will be removed after 2021-01-01. Please use instead:* `np.argmax(model.predict(x), axis=-1)`,   if your model does multi-class classification   (e.g. if it uses a `softmax` last-layer activation).* `(model.predict(x) > 0.5).astype(\"int32\")`,   if your model does binary classification   (e.g. if it uses a `sigmoid` last-layer activation).\n",
            "  warnings.warn('`model.predict_classes()` is deprecated and '\n"
          ],
          "name": "stderr"
        }
      ]
    },
    {
      "cell_type": "code",
      "metadata": {
        "colab": {
          "base_uri": "https://localhost:8080/"
        },
        "id": "MqAHCjA-pa-A",
        "outputId": "52e3c88a-7e52-4b4e-dfa8-af0980c44029"
      },
      "source": [
        "print(prec, rec, f1)"
      ],
      "execution_count": 94,
      "outputs": [
        {
          "output_type": "stream",
          "text": [
            "0.5402 0.5402 0.5402\n"
          ],
          "name": "stdout"
        }
      ]
    },
    {
      "cell_type": "code",
      "metadata": {
        "id": "3p3RA8_3qBJJ"
      },
      "source": [
        ""
      ],
      "execution_count": null,
      "outputs": []
    }
  ]
}